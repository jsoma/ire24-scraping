{
 "cells": [
  {
   "cell_type": "markdown",
   "id": "767e0001-a5e1-4181-9f38-7af268610b23",
   "metadata": {},
   "source": [
    "Traditionally Python programmers use [BeautifulSoup](https://beautiful-soup-4.readthedocs.io/en/latest/) to scrape content from the interent. Instead of being *traditional*, we're going to use [Playwright](https://playwright.dev/python/), a **browser automation tool**! This means you actually control the browser! Filling out forms, clicking buttons, downloading documents... it's magic!!!✨✨✨\n",
    "\n",
    "# Texas Medical Board Actions Details\n",
    "\n",
    "- Filling out text inputs\n",
    "- Inspecting the page\n",
    "- Combining dataframes\n",
    "- Looping through licenses\n",
    "- Downloading PDFs (using Firefox)"
   ]
  },
  {
   "cell_type": "markdown",
   "id": "5a3f13b0-ae94-4daf-911a-26d84dded030",
   "metadata": {},
   "source": [
    "## Installation\n",
    "\n",
    "We need to install a few tools first! Remove the `#` and run the cell to install the Python packages and browsers that we'll need for our scraping adventure."
   ]
  },
  {
   "cell_type": "code",
   "execution_count": 1,
   "id": "537e5772-324f-4526-8807-7730f17a1281",
   "metadata": {},
   "outputs": [],
   "source": [
    "# %pip install --quiet lxml html5lib beautifulsoup4 pandas\n",
    "# %pip install --quiet playwright\n",
    "# !playwright install"
   ]
  },
  {
   "cell_type": "markdown",
   "id": "bbd4ff15-9ca6-4f94-9941-aa144ddb53e9",
   "metadata": {},
   "source": [
    "## Opening up the browser and visiting our destination\n",
    "\n",
    "We've been using Chromium (basically Chrome) for most of our exercises, but in this case we're using Firefox! Chromium for some reason sometimes gets blocked, while Firefox doesn't. Not sure why!"
   ]
  },
  {
   "cell_type": "code",
   "execution_count": 43,
   "id": "44aa283c-611d-4315-94bc-c4013c219d2f",
   "metadata": {},
   "outputs": [],
   "source": [
    "from playwright.async_api import async_playwright\n",
    "\n",
    "# \"Hey, open up a browser\"\n",
    "playwright = await async_playwright().start()\n",
    "browser = await playwright.firefox.launch(headless=False)\n",
    "\n",
    "# Create a new browser window\n",
    "page = await browser.new_page()"
   ]
  },
  {
   "cell_type": "code",
   "execution_count": 30,
   "id": "73626fae-b072-4bff-a4a5-c3785131994f",
   "metadata": {},
   "outputs": [
    {
     "data": {
      "text/plain": [
       "<Response url='https://profile.tmb.state.tx.us/SearchBA.aspx?eb2d4a70-6591-4ad4-ae6d-a2727e84cb39' request=<Request url='https://profile.tmb.state.tx.us/SearchBA.aspx?eb2d4a70-6591-4ad4-ae6d-a2727e84cb39' method='GET'>>"
      ]
     },
     "execution_count": 30,
     "metadata": {},
     "output_type": "execute_result"
    }
   ],
   "source": [
    "await page.goto(\"https://profile.tmb.state.tx.us/SearchBA.aspx?eb2d4a70-6591-4ad4-ae6d-a2727e84cb39\")"
   ]
  },
  {
   "cell_type": "markdown",
   "id": "509a773f-4d0b-4805-a2fb-bca127e88109",
   "metadata": {},
   "source": [
    "# Filling in a single license and searching\n",
    "\n",
    "Filling in text fields, clicking, waiting for buttons to show up and clicking. Nothing crazy!"
   ]
  },
  {
   "cell_type": "code",
   "execution_count": 31,
   "id": "e7be2b37-9120-4b3e-9e0e-284803acc7d1",
   "metadata": {},
   "outputs": [],
   "source": [
    "# M6992\n",
    "# Q5611\n",
    "# M1444\n",
    "await page.locator(\"#BodyContent_tbLicense\").fill(\"M6992\")"
   ]
  },
  {
   "cell_type": "code",
   "execution_count": 32,
   "id": "238c4c78-ff16-45df-a205-8d159da83e72",
   "metadata": {},
   "outputs": [],
   "source": [
    "await page.get_by_role(\"button\", name=\"Search\").click()"
   ]
  },
  {
   "cell_type": "code",
   "execution_count": 33,
   "id": "8123cc84-aac0-4a49-974f-4461f20ce7cb",
   "metadata": {},
   "outputs": [],
   "source": [
    "await page.get_by_text(\"Document\").click()"
   ]
  },
  {
   "cell_type": "markdown",
   "id": "1aaf1f04-e557-4ce5-a0c4-3ed192ad5d54",
   "metadata": {},
   "source": [
    "### Opening up the documents section"
   ]
  },
  {
   "cell_type": "code",
   "execution_count": 34,
   "id": "5359141c-99c3-452a-bb7a-6bc5fddb75d3",
   "metadata": {},
   "outputs": [],
   "source": [
    "await page.get_by_role(\"button\", name=\"ExpandWeb Documents\").wait_for()"
   ]
  },
  {
   "cell_type": "code",
   "execution_count": 35,
   "id": "6f15f30e-c7dd-4301-a48b-c800b3d93845",
   "metadata": {},
   "outputs": [],
   "source": [
    "await page.get_by_role(\"button\", name=\"ExpandWeb Documents\").click()"
   ]
  },
  {
   "cell_type": "markdown",
   "id": "e3cdeb41-e7e2-43d6-80ae-4375bc270f71",
   "metadata": {},
   "source": [
    "I dug into the code on the page and we have 3 links. "
   ]
  },
  {
   "cell_type": "code",
   "execution_count": 36,
   "id": "89abf468-cad4-4c40-9ec5-f8ac2b115a47",
   "metadata": {},
   "outputs": [
    {
     "data": {
      "text/plain": [
       "3"
      ]
     },
     "execution_count": 36,
     "metadata": {},
     "output_type": "execute_result"
    }
   ],
   "source": [
    "links = page.locator(\".doclink\")\n",
    "await links.count()"
   ]
  },
  {
   "cell_type": "markdown",
   "id": "928d9d57-3679-458a-9c03-3fb512059b5a",
   "metadata": {},
   "source": [
    "### Downloading one of the PDFs\n",
    "\n",
    "By default this opens up in Chrome/Chromium as an in-page PDF. We change to Firefox to make it actually download."
   ]
  },
  {
   "cell_type": "code",
   "execution_count": 37,
   "id": "8e4f3368-f1c7-4c0a-938a-822b1eeeb215",
   "metadata": {},
   "outputs": [
    {
     "name": "stdout",
     "output_type": "stream",
     "text": [
      "Saving as 0000C54E.PDF\n"
     ]
    }
   ],
   "source": [
    "# Start waiting for the download\n",
    "async with page.expect_download() as download_info:\n",
    "    # Perform the action that initiates download\n",
    "    await links.nth(1).click()\n",
    "download = await download_info.value\n",
    "\n",
    "print(\"Saving as\", download.suggested_filename)\n",
    "\n",
    "# Wait for the download process to complete and save the downloaded file somewhere\n",
    "await download.save_as(download.suggested_filename)"
   ]
  },
  {
   "cell_type": "markdown",
   "id": "9106f99a-5740-4af4-aee9-366808cc5c92",
   "metadata": {},
   "source": [
    "### Return to the previous page"
   ]
  },
  {
   "cell_type": "code",
   "execution_count": 38,
   "id": "d4d60254-5bee-44b8-b443-404596f1ec26",
   "metadata": {},
   "outputs": [],
   "source": [
    "#await page.get_by_text(\"Back\").click()\n",
    "await page.get_by_role(\"link\", name=\"Back\").click()"
   ]
  },
  {
   "cell_type": "markdown",
   "id": "85ed3d06-0596-4633-a6a4-ba331ebce0e4",
   "metadata": {},
   "source": [
    "## Putting it all together\n",
    "\n",
    "If we had a CSV with licenses in it, we can read in the CSV file and extract a list of licenses."
   ]
  },
  {
   "cell_type": "code",
   "execution_count": 2,
   "id": "be5817e5-fef7-4852-9dab-165bcf42188a",
   "metadata": {},
   "outputs": [
    {
     "data": {
      "text/html": [
       "<div>\n",
       "<style scoped>\n",
       "    .dataframe tbody tr th:only-of-type {\n",
       "        vertical-align: middle;\n",
       "    }\n",
       "\n",
       "    .dataframe tbody tr th {\n",
       "        vertical-align: top;\n",
       "    }\n",
       "\n",
       "    .dataframe thead th {\n",
       "        text-align: right;\n",
       "    }\n",
       "</style>\n",
       "<table border=\"1\" class=\"dataframe\">\n",
       "  <thead>\n",
       "    <tr style=\"text-align: right;\">\n",
       "      <th></th>\n",
       "      <th>Name</th>\n",
       "      <th>License</th>\n",
       "      <th>Type</th>\n",
       "      <th>Address</th>\n",
       "      <th>City</th>\n",
       "      <th>Board Actions</th>\n",
       "    </tr>\n",
       "  </thead>\n",
       "  <tbody>\n",
       "    <tr>\n",
       "      <th>0</th>\n",
       "      <td>HENSEN, ERIC LOGAN</td>\n",
       "      <td>R0868</td>\n",
       "      <td>Physician License</td>\n",
       "      <td>112 MEDICAL DR</td>\n",
       "      <td>PALESTINE</td>\n",
       "      <td>NaN</td>\n",
       "    </tr>\n",
       "    <tr>\n",
       "      <th>1</th>\n",
       "      <td>CASTILLO, MARGUI</td>\n",
       "      <td>NONE</td>\n",
       "      <td>NaN</td>\n",
       "      <td>NaN</td>\n",
       "      <td>NaN</td>\n",
       "      <td>NaN</td>\n",
       "    </tr>\n",
       "    <tr>\n",
       "      <th>2</th>\n",
       "      <td>HADEN, MARSHALL LYNN</td>\n",
       "      <td>BP10078006</td>\n",
       "      <td>Physician-in-Training Permit</td>\n",
       "      <td>6431 FANNIN ST</td>\n",
       "      <td>HOUSTON</td>\n",
       "      <td>NaN</td>\n",
       "    </tr>\n",
       "    <tr>\n",
       "      <th>3</th>\n",
       "      <td>CHAVEZ, JORGE</td>\n",
       "      <td>NONE</td>\n",
       "      <td>NaN</td>\n",
       "      <td>NaN</td>\n",
       "      <td>NaN</td>\n",
       "      <td>NaN</td>\n",
       "    </tr>\n",
       "  </tbody>\n",
       "</table>\n",
       "</div>"
      ],
      "text/plain": [
       "                   Name     License                          Type  \\\n",
       "0    HENSEN, ERIC LOGAN       R0868             Physician License   \n",
       "1      CASTILLO, MARGUI        NONE                           NaN   \n",
       "2  HADEN, MARSHALL LYNN  BP10078006  Physician-in-Training Permit   \n",
       "3         CHAVEZ, JORGE        NONE                           NaN   \n",
       "\n",
       "          Address       City  Board Actions  \n",
       "0  112 MEDICAL DR  PALESTINE            NaN  \n",
       "1             NaN        NaN            NaN  \n",
       "2  6431 FANNIN ST    HOUSTON            NaN  \n",
       "3             NaN        NaN            NaN  "
      ]
     },
     "execution_count": 2,
     "metadata": {},
     "output_type": "execute_result"
    }
   ],
   "source": [
    "import pandas as pd\n",
    "\n",
    "df = pd.read_csv(\"licenses.csv\")\n",
    "df.head()"
   ]
  },
  {
   "cell_type": "code",
   "execution_count": 5,
   "id": "efb8c254-0cdb-42b9-a3bf-4a6c12357176",
   "metadata": {},
   "outputs": [
    {
     "data": {
      "text/plain": [
       "['R0868', 'BP10078006']"
      ]
     },
     "execution_count": 5,
     "metadata": {},
     "output_type": "execute_result"
    }
   ],
   "source": [
    "licenses = df['License'].unique().tolist()\n",
    "\n",
    "# We don't like the NONE one, so we'll remove it.\n",
    "licenses.remove('NONE')\n",
    "licenses"
   ]
  },
  {
   "cell_type": "markdown",
   "id": "9cfc5f84-e0f8-434e-a405-3bc218399ea7",
   "metadata": {},
   "source": [
    "I don't think we have very many licenses in the CSV, so we'll try it again with a list of licenses that I put together manually."
   ]
  },
  {
   "cell_type": "code",
   "execution_count": 44,
   "id": "208d94bc-ceb7-4bbf-843a-2f3b3b1aac53",
   "metadata": {},
   "outputs": [
    {
     "name": "stdout",
     "output_type": "stream",
     "text": [
      "Searching for M6992\n"
     ]
    },
    {
     "ename": "Exception",
     "evalue": "Locator.click: Connection closed while reading from the driver",
     "output_type": "error",
     "traceback": [
      "\u001b[0;31m---------------------------------------------------------------------------\u001b[0m",
      "\u001b[0;31mException\u001b[0m                                 Traceback (most recent call last)",
      "Cell \u001b[0;32mIn[44], line 24\u001b[0m\n\u001b[1;32m     21\u001b[0m \u001b[38;5;28;01mfor\u001b[39;00m i \u001b[38;5;129;01min\u001b[39;00m \u001b[38;5;28mrange\u001b[39m(count):\n\u001b[1;32m     22\u001b[0m     \u001b[38;5;66;03m# Wait for download\u001b[39;00m\n\u001b[1;32m     23\u001b[0m     \u001b[38;5;28;01masync\u001b[39;00m \u001b[38;5;28;01mwith\u001b[39;00m page\u001b[38;5;241m.\u001b[39mexpect_download() \u001b[38;5;28;01mas\u001b[39;00m download_info:\n\u001b[0;32m---> 24\u001b[0m         \u001b[38;5;28;01mawait\u001b[39;00m links\u001b[38;5;241m.\u001b[39mnth(i)\u001b[38;5;241m.\u001b[39mclick()\n\u001b[1;32m     25\u001b[0m     download \u001b[38;5;241m=\u001b[39m \u001b[38;5;28;01mawait\u001b[39;00m download_info\u001b[38;5;241m.\u001b[39mvalue\n\u001b[1;32m     27\u001b[0m     \u001b[38;5;28mprint\u001b[39m(\u001b[38;5;124m\"\u001b[39m\u001b[38;5;124mSaving as\u001b[39m\u001b[38;5;124m\"\u001b[39m, download\u001b[38;5;241m.\u001b[39msuggested_filename)\n",
      "File \u001b[0;32m~/.pyenv/versions/3.10.13/lib/python3.10/site-packages/playwright/async_api/_generated.py:14810\u001b[0m, in \u001b[0;36mLocator.click\u001b[0;34m(self, modifiers, position, delay, button, click_count, timeout, force, no_wait_after, trial)\u001b[0m\n\u001b[1;32m  14733\u001b[0m \u001b[38;5;28;01masync\u001b[39;00m \u001b[38;5;28;01mdef\u001b[39;00m \u001b[38;5;21mclick\u001b[39m(\n\u001b[1;32m  14734\u001b[0m     \u001b[38;5;28mself\u001b[39m,\n\u001b[1;32m  14735\u001b[0m     \u001b[38;5;241m*\u001b[39m,\n\u001b[0;32m   (...)\u001b[0m\n\u001b[1;32m  14746\u001b[0m     trial: typing\u001b[38;5;241m.\u001b[39mOptional[\u001b[38;5;28mbool\u001b[39m] \u001b[38;5;241m=\u001b[39m \u001b[38;5;28;01mNone\u001b[39;00m\n\u001b[1;32m  14747\u001b[0m ) \u001b[38;5;241m-\u001b[39m\u001b[38;5;241m>\u001b[39m \u001b[38;5;28;01mNone\u001b[39;00m:\n\u001b[1;32m  14748\u001b[0m \u001b[38;5;250m    \u001b[39m\u001b[38;5;124;03m\"\"\"Locator.click\u001b[39;00m\n\u001b[1;32m  14749\u001b[0m \n\u001b[1;32m  14750\u001b[0m \u001b[38;5;124;03m    Click an element.\u001b[39;00m\n\u001b[0;32m   (...)\u001b[0m\n\u001b[1;32m  14806\u001b[0m \u001b[38;5;124;03m        to `false`. Useful to wait until the element is ready for the action without performing it.\u001b[39;00m\n\u001b[1;32m  14807\u001b[0m \u001b[38;5;124;03m    \"\"\"\u001b[39;00m\n\u001b[1;32m  14809\u001b[0m     \u001b[38;5;28;01mreturn\u001b[39;00m mapping\u001b[38;5;241m.\u001b[39mfrom_maybe_impl(\n\u001b[0;32m> 14810\u001b[0m         \u001b[38;5;28;01mawait\u001b[39;00m \u001b[38;5;28mself\u001b[39m\u001b[38;5;241m.\u001b[39m_impl_obj\u001b[38;5;241m.\u001b[39mclick(\n\u001b[1;32m  14811\u001b[0m             modifiers\u001b[38;5;241m=\u001b[39mmapping\u001b[38;5;241m.\u001b[39mto_impl(modifiers),\n\u001b[1;32m  14812\u001b[0m             position\u001b[38;5;241m=\u001b[39mposition,\n\u001b[1;32m  14813\u001b[0m             delay\u001b[38;5;241m=\u001b[39mdelay,\n\u001b[1;32m  14814\u001b[0m             button\u001b[38;5;241m=\u001b[39mbutton,\n\u001b[1;32m  14815\u001b[0m             clickCount\u001b[38;5;241m=\u001b[39mclick_count,\n\u001b[1;32m  14816\u001b[0m             timeout\u001b[38;5;241m=\u001b[39mtimeout,\n\u001b[1;32m  14817\u001b[0m             force\u001b[38;5;241m=\u001b[39mforce,\n\u001b[1;32m  14818\u001b[0m             noWaitAfter\u001b[38;5;241m=\u001b[39mno_wait_after,\n\u001b[1;32m  14819\u001b[0m             trial\u001b[38;5;241m=\u001b[39mtrial,\n\u001b[1;32m  14820\u001b[0m         )\n\u001b[1;32m  14821\u001b[0m     )\n",
      "File \u001b[0;32m~/.pyenv/versions/3.10.13/lib/python3.10/site-packages/playwright/_impl/_locator.py:153\u001b[0m, in \u001b[0;36mLocator.click\u001b[0;34m(self, modifiers, position, delay, button, clickCount, timeout, force, noWaitAfter, trial)\u001b[0m\n\u001b[1;32m    140\u001b[0m \u001b[38;5;28;01masync\u001b[39;00m \u001b[38;5;28;01mdef\u001b[39;00m \u001b[38;5;21mclick\u001b[39m(\n\u001b[1;32m    141\u001b[0m     \u001b[38;5;28mself\u001b[39m,\n\u001b[1;32m    142\u001b[0m     modifiers: Sequence[KeyboardModifier] \u001b[38;5;241m=\u001b[39m \u001b[38;5;28;01mNone\u001b[39;00m,\n\u001b[0;32m   (...)\u001b[0m\n\u001b[1;32m    150\u001b[0m     trial: \u001b[38;5;28mbool\u001b[39m \u001b[38;5;241m=\u001b[39m \u001b[38;5;28;01mNone\u001b[39;00m,\n\u001b[1;32m    151\u001b[0m ) \u001b[38;5;241m-\u001b[39m\u001b[38;5;241m>\u001b[39m \u001b[38;5;28;01mNone\u001b[39;00m:\n\u001b[1;32m    152\u001b[0m     params \u001b[38;5;241m=\u001b[39m locals_to_params(\u001b[38;5;28mlocals\u001b[39m())\n\u001b[0;32m--> 153\u001b[0m     \u001b[38;5;28;01mreturn\u001b[39;00m \u001b[38;5;28;01mawait\u001b[39;00m \u001b[38;5;28mself\u001b[39m\u001b[38;5;241m.\u001b[39m_frame\u001b[38;5;241m.\u001b[39mclick(\u001b[38;5;28mself\u001b[39m\u001b[38;5;241m.\u001b[39m_selector, strict\u001b[38;5;241m=\u001b[39m\u001b[38;5;28;01mTrue\u001b[39;00m, \u001b[38;5;241m*\u001b[39m\u001b[38;5;241m*\u001b[39mparams)\n",
      "File \u001b[0;32m~/.pyenv/versions/3.10.13/lib/python3.10/site-packages/playwright/_impl/_frame.py:488\u001b[0m, in \u001b[0;36mFrame.click\u001b[0;34m(self, selector, modifiers, position, delay, button, clickCount, timeout, force, noWaitAfter, strict, trial)\u001b[0m\n\u001b[1;32m    474\u001b[0m \u001b[38;5;28;01masync\u001b[39;00m \u001b[38;5;28;01mdef\u001b[39;00m \u001b[38;5;21mclick\u001b[39m(\n\u001b[1;32m    475\u001b[0m     \u001b[38;5;28mself\u001b[39m,\n\u001b[1;32m    476\u001b[0m     selector: \u001b[38;5;28mstr\u001b[39m,\n\u001b[0;32m   (...)\u001b[0m\n\u001b[1;32m    486\u001b[0m     trial: \u001b[38;5;28mbool\u001b[39m \u001b[38;5;241m=\u001b[39m \u001b[38;5;28;01mNone\u001b[39;00m,\n\u001b[1;32m    487\u001b[0m ) \u001b[38;5;241m-\u001b[39m\u001b[38;5;241m>\u001b[39m \u001b[38;5;28;01mNone\u001b[39;00m:\n\u001b[0;32m--> 488\u001b[0m     \u001b[38;5;28;01mawait\u001b[39;00m \u001b[38;5;28mself\u001b[39m\u001b[38;5;241m.\u001b[39m_channel\u001b[38;5;241m.\u001b[39msend(\u001b[38;5;124m\"\u001b[39m\u001b[38;5;124mclick\u001b[39m\u001b[38;5;124m\"\u001b[39m, locals_to_params(\u001b[38;5;28mlocals\u001b[39m()))\n",
      "File \u001b[0;32m~/.pyenv/versions/3.10.13/lib/python3.10/site-packages/playwright/_impl/_connection.py:59\u001b[0m, in \u001b[0;36mChannel.send\u001b[0;34m(self, method, params)\u001b[0m\n\u001b[1;32m     58\u001b[0m \u001b[38;5;28;01masync\u001b[39;00m \u001b[38;5;28;01mdef\u001b[39;00m \u001b[38;5;21msend\u001b[39m(\u001b[38;5;28mself\u001b[39m, method: \u001b[38;5;28mstr\u001b[39m, params: Dict \u001b[38;5;241m=\u001b[39m \u001b[38;5;28;01mNone\u001b[39;00m) \u001b[38;5;241m-\u001b[39m\u001b[38;5;241m>\u001b[39m Any:\n\u001b[0;32m---> 59\u001b[0m     \u001b[38;5;28;01mreturn\u001b[39;00m \u001b[38;5;28;01mawait\u001b[39;00m \u001b[38;5;28mself\u001b[39m\u001b[38;5;241m.\u001b[39m_connection\u001b[38;5;241m.\u001b[39mwrap_api_call(\n\u001b[1;32m     60\u001b[0m         \u001b[38;5;28;01mlambda\u001b[39;00m: \u001b[38;5;28mself\u001b[39m\u001b[38;5;241m.\u001b[39minner_send(method, params, \u001b[38;5;28;01mFalse\u001b[39;00m)\n\u001b[1;32m     61\u001b[0m     )\n",
      "File \u001b[0;32m~/.pyenv/versions/3.10.13/lib/python3.10/site-packages/playwright/_impl/_connection.py:513\u001b[0m, in \u001b[0;36mConnection.wrap_api_call\u001b[0;34m(self, cb, is_internal)\u001b[0m\n\u001b[1;32m    511\u001b[0m     \u001b[38;5;28;01mreturn\u001b[39;00m \u001b[38;5;28;01mawait\u001b[39;00m cb()\n\u001b[1;32m    512\u001b[0m \u001b[38;5;28;01mexcept\u001b[39;00m \u001b[38;5;167;01mException\u001b[39;00m \u001b[38;5;28;01mas\u001b[39;00m error:\n\u001b[0;32m--> 513\u001b[0m     \u001b[38;5;28;01mraise\u001b[39;00m rewrite_error(error, \u001b[38;5;124mf\u001b[39m\u001b[38;5;124m\"\u001b[39m\u001b[38;5;132;01m{\u001b[39;00mparsed_st[\u001b[38;5;124m'\u001b[39m\u001b[38;5;124mapiName\u001b[39m\u001b[38;5;124m'\u001b[39m]\u001b[38;5;132;01m}\u001b[39;00m\u001b[38;5;124m: \u001b[39m\u001b[38;5;132;01m{\u001b[39;00merror\u001b[38;5;132;01m}\u001b[39;00m\u001b[38;5;124m\"\u001b[39m) \u001b[38;5;28;01mfrom\u001b[39;00m \u001b[38;5;28;01mNone\u001b[39;00m\n\u001b[1;32m    514\u001b[0m \u001b[38;5;28;01mfinally\u001b[39;00m:\n\u001b[1;32m    515\u001b[0m     \u001b[38;5;28mself\u001b[39m\u001b[38;5;241m.\u001b[39m_api_zone\u001b[38;5;241m.\u001b[39mset(\u001b[38;5;28;01mNone\u001b[39;00m)\n",
      "\u001b[0;31mException\u001b[0m: Locator.click: Connection closed while reading from the driver"
     ]
    }
   ],
   "source": [
    "licenses = ['M6992', 'Q5611', 'M1444']\n",
    "\n",
    "for license in licenses:\n",
    "    print(\"Searching for\", license)\n",
    "    await page.goto(\"https://profile.tmb.state.tx.us/SearchBA.aspx?eb2d4a70-6591-4ad4-ae6d-a2727e84cb39\")\n",
    "    \n",
    "    # Fill out license\n",
    "    await page.locator(\"#BodyContent_tbLicense\").fill(license)\n",
    "    \n",
    "    # Click search button\n",
    "    await page.get_by_role(\"button\", name=\"Search\").click()\n",
    "    \n",
    "    # Move into Documents section\n",
    "    await page.get_by_text(\"Document\").click()\n",
    "    \n",
    "    # Expand documents tab\n",
    "    await page.get_by_role(\"button\", name=\"ExpandWeb Documents\").wait_for()\n",
    "    await page.get_by_role(\"button\", name=\"ExpandWeb Documents\").click()\n",
    "\n",
    "    links = page.locator(\".doclink\")\n",
    "    count = await links.count()\n",
    "    count\n",
    "\n",
    "    # Download all documents\n",
    "    for i in range(count):\n",
    "        # Wait for download\n",
    "        async with page.expect_download() as download_info:\n",
    "            await links.nth(i).click()\n",
    "        download = await download_info.value\n",
    "        \n",
    "        print(\"Saving as\", download.suggested_filename)\n",
    "        \n",
    "        # Wait for the download process to complete and save the downloaded file somewhere\n",
    "        await download.save_as(download.suggested_filename)"
   ]
  },
  {
   "cell_type": "code",
   "execution_count": null,
   "id": "176553ec-9a34-4913-847e-5892faea4f5f",
   "metadata": {},
   "outputs": [],
   "source": []
  }
 ],
 "metadata": {
  "kernelspec": {
   "display_name": "Python 3 (ipykernel)",
   "language": "python",
   "name": "python3"
  },
  "language_info": {
   "codemirror_mode": {
    "name": "ipython",
    "version": 3
   },
   "file_extension": ".py",
   "mimetype": "text/x-python",
   "name": "python",
   "nbconvert_exporter": "python",
   "pygments_lexer": "ipython3",
   "version": "3.10.13"
  }
 },
 "nbformat": 4,
 "nbformat_minor": 5
}
