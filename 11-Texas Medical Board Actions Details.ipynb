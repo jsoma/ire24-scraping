{
 "cells": [
  {
   "cell_type": "markdown",
   "id": "767e0001-a5e1-4181-9f38-7af268610b23",
   "metadata": {},
   "source": [
    "In this example we are going to scrape board actions from the [Texas Medical Board](https://profile.tmb.state.tx.us/SearchBA.aspx). Unlike last time, we're doing to be downloading a bunch of PDFs with details!\n",
    "\n",
    "Traditionally Python programmers use [BeautifulSoup](https://beautiful-soup-4.readthedocs.io/en/latest/) to scrape content from the interent. Instead of being *traditional*, we're going to use [Playwright](https://playwright.dev/python/), a **browser automation tool**! This means you actually control the browser! Filling out forms, clicking buttons, downloading documents... it's magic!!!✨✨✨\n",
    "\n",
    "# Texas Medical Board Actions Details\n",
    "\n",
    "- Filling out text inputs\n",
    "- Inspecting the page\n",
    "- Combining dataframes\n",
    "- Looping through licenses\n",
    "- Downloading PDFs (using Firefox)"
   ]
  },
  {
   "cell_type": "markdown",
   "id": "5a3f13b0-ae94-4daf-911a-26d84dded030",
   "metadata": {},
   "source": [
    "## Installation\n",
    "\n",
    "We need to install a few tools first! Remove the `#` and run the cell to install the Python packages and browsers that we'll need for our scraping adventure."
   ]
  },
  {
   "cell_type": "code",
   "execution_count": null,
   "id": "537e5772-324f-4526-8807-7730f17a1281",
   "metadata": {},
   "outputs": [],
   "source": [
    "# %pip install --quiet lxml html5lib beautifulsoup4 pandas\n",
    "# %pip install --quiet playwright\n",
    "# !playwright install"
   ]
  },
  {
   "cell_type": "markdown",
   "id": "bbd4ff15-9ca6-4f94-9941-aa144ddb53e9",
   "metadata": {},
   "source": [
    "## Opening up the browser and visiting our destination\n",
    "\n",
    "We've been using Chromium (basically Chrome) for most of our exercises, but in this case we're using Firefox! Chromium for some reason sometimes gets blocked, while Firefox doesn't. Not sure why!"
   ]
  },
  {
   "cell_type": "code",
   "execution_count": null,
   "id": "44aa283c-611d-4315-94bc-c4013c219d2f",
   "metadata": {},
   "outputs": [],
   "source": [
    "from playwright.async_api import async_playwright\n",
    "\n",
    "# \"Hey, open up a browser\"\n",
    "playwright = await async_playwright().start()\n",
    "browser = await playwright.firefox.launch(headless=False)\n",
    "\n",
    "# Create a new browser window\n",
    "page = await browser.new_page()"
   ]
  },
  {
   "cell_type": "code",
   "execution_count": null,
   "id": "73626fae-b072-4bff-a4a5-c3785131994f",
   "metadata": {},
   "outputs": [],
   "source": [
    "await page.goto(\"https://profile.tmb.state.tx.us/SearchBA.aspx?eb2d4a70-6591-4ad4-ae6d-a2727e84cb39\")"
   ]
  },
  {
   "cell_type": "markdown",
   "id": "509a773f-4d0b-4805-a2fb-bca127e88109",
   "metadata": {},
   "source": [
    "# Filling in a single license and searching\n",
    "\n",
    "Filling in text fields, clicking, waiting for buttons to show up and clicking. Nothing crazy!"
   ]
  },
  {
   "cell_type": "code",
   "execution_count": null,
   "id": "e7be2b37-9120-4b3e-9e0e-284803acc7d1",
   "metadata": {},
   "outputs": [],
   "source": [
    "# M6992\n",
    "# Q5611\n",
    "# M1444\n",
    "await page.locator(\"#BodyContent_tbLicense\").fill(\"M6992\")"
   ]
  },
  {
   "cell_type": "code",
   "execution_count": null,
   "id": "238c4c78-ff16-45df-a205-8d159da83e72",
   "metadata": {},
   "outputs": [],
   "source": [
    "await page.get_by_role(\"button\", name=\"Search\").click()"
   ]
  },
  {
   "cell_type": "code",
   "execution_count": null,
   "id": "8123cc84-aac0-4a49-974f-4461f20ce7cb",
   "metadata": {},
   "outputs": [],
   "source": [
    "await page.get_by_text(\"Document\").click()"
   ]
  },
  {
   "cell_type": "markdown",
   "id": "1aaf1f04-e557-4ce5-a0c4-3ed192ad5d54",
   "metadata": {},
   "source": [
    "### Opening up the documents section"
   ]
  },
  {
   "cell_type": "code",
   "execution_count": null,
   "id": "5359141c-99c3-452a-bb7a-6bc5fddb75d3",
   "metadata": {},
   "outputs": [],
   "source": [
    "await page.get_by_role(\"button\", name=\"ExpandWeb Documents\").wait_for()"
   ]
  },
  {
   "cell_type": "code",
   "execution_count": null,
   "id": "6f15f30e-c7dd-4301-a48b-c800b3d93845",
   "metadata": {},
   "outputs": [],
   "source": [
    "await page.get_by_role(\"button\", name=\"ExpandWeb Documents\").click()"
   ]
  },
  {
   "cell_type": "markdown",
   "id": "e3cdeb41-e7e2-43d6-80ae-4375bc270f71",
   "metadata": {},
   "source": [
    "I dug into the code on the page and we have 3 links. "
   ]
  },
  {
   "cell_type": "code",
   "execution_count": null,
   "id": "89abf468-cad4-4c40-9ec5-f8ac2b115a47",
   "metadata": {},
   "outputs": [],
   "source": [
    "links = page.locator(\".doclink\")\n",
    "await links.count()"
   ]
  },
  {
   "cell_type": "markdown",
   "id": "928d9d57-3679-458a-9c03-3fb512059b5a",
   "metadata": {},
   "source": [
    "### Downloading one of the PDFs\n",
    "\n",
    "By default this opens up in Chrome/Chromium as an in-page PDF. We change to Firefox to make it actually download."
   ]
  },
  {
   "cell_type": "code",
   "execution_count": null,
   "id": "8e4f3368-f1c7-4c0a-938a-822b1eeeb215",
   "metadata": {},
   "outputs": [],
   "source": [
    "# Start waiting for the download\n",
    "async with page.expect_download() as download_info:\n",
    "    # Perform the action that initiates download\n",
    "    await links.nth(1).click()\n",
    "download = await download_info.value\n",
    "\n",
    "print(\"Saving as\", download.suggested_filename)\n",
    "\n",
    "# Wait for the download process to complete and save the downloaded file somewhere\n",
    "await download.save_as(download.suggested_filename)"
   ]
  },
  {
   "cell_type": "markdown",
   "id": "9106f99a-5740-4af4-aee9-366808cc5c92",
   "metadata": {},
   "source": [
    "### Return to the previous page"
   ]
  },
  {
   "cell_type": "code",
   "execution_count": null,
   "id": "d4d60254-5bee-44b8-b443-404596f1ec26",
   "metadata": {},
   "outputs": [],
   "source": [
    "#await page.get_by_text(\"Back\").click()\n",
    "await page.get_by_role(\"link\", name=\"Back\").click()"
   ]
  },
  {
   "cell_type": "markdown",
   "id": "85ed3d06-0596-4633-a6a4-ba331ebce0e4",
   "metadata": {},
   "source": [
    "## Putting it all together\n",
    "\n",
    "If we had a CSV with licenses in it, we can read in the CSV file and extract a list of licenses."
   ]
  },
  {
   "cell_type": "code",
   "execution_count": null,
   "id": "be5817e5-fef7-4852-9dab-165bcf42188a",
   "metadata": {},
   "outputs": [],
   "source": [
    "import pandas as pd\n",
    "\n",
    "df = pd.read_csv(\"licenses.csv\")\n",
    "df.head()"
   ]
  },
  {
   "cell_type": "code",
   "execution_count": null,
   "id": "efb8c254-0cdb-42b9-a3bf-4a6c12357176",
   "metadata": {},
   "outputs": [],
   "source": [
    "licenses = df['License'].unique().tolist()\n",
    "\n",
    "# We don't like the NONE one, so we'll remove it.\n",
    "licenses.remove('NONE')\n",
    "licenses"
   ]
  },
  {
   "cell_type": "markdown",
   "id": "9cfc5f84-e0f8-434e-a405-3bc218399ea7",
   "metadata": {},
   "source": [
    "I don't think we have very many licenses in the CSV, so we'll try it again with a list of licenses that I put together manually."
   ]
  },
  {
   "cell_type": "code",
   "execution_count": null,
   "id": "208d94bc-ceb7-4bbf-843a-2f3b3b1aac53",
   "metadata": {},
   "outputs": [],
   "source": [
    "licenses = ['M6992', 'Q5611', 'M1444']\n",
    "\n",
    "for license in licenses:\n",
    "    print(\"Searching for\", license)\n",
    "    await page.goto(\"https://profile.tmb.state.tx.us/SearchBA.aspx?eb2d4a70-6591-4ad4-ae6d-a2727e84cb39\")\n",
    "    \n",
    "    # Fill out license\n",
    "    await page.locator(\"#BodyContent_tbLicense\").fill(license)\n",
    "    \n",
    "    # Click search button\n",
    "    await page.get_by_role(\"button\", name=\"Search\").click()\n",
    "    \n",
    "    # Move into Documents section\n",
    "    await page.get_by_text(\"Document\").click()\n",
    "    \n",
    "    # Expand documents tab\n",
    "    await page.get_by_role(\"button\", name=\"ExpandWeb Documents\").wait_for()\n",
    "    await page.get_by_role(\"button\", name=\"ExpandWeb Documents\").click()\n",
    "\n",
    "    links = page.locator(\".doclink\")\n",
    "    count = await links.count()\n",
    "    count\n",
    "\n",
    "    # Download all documents\n",
    "    for i in range(count):\n",
    "        # Wait for download\n",
    "        async with page.expect_download() as download_info:\n",
    "            await links.nth(i).click()\n",
    "        download = await download_info.value\n",
    "        \n",
    "        print(\"Saving as\", download.suggested_filename)\n",
    "        \n",
    "        # Wait for the download process to complete and save the downloaded file somewhere\n",
    "        await download.save_as(download.suggested_filename)"
   ]
  },
  {
   "cell_type": "code",
   "execution_count": null,
   "id": "176553ec-9a34-4913-847e-5892faea4f5f",
   "metadata": {},
   "outputs": [],
   "source": []
  }
 ],
 "metadata": {
  "kernelspec": {
   "display_name": "Python 3 (ipykernel)",
   "language": "python",
   "name": "python3"
  },
  "language_info": {
   "codemirror_mode": {
    "name": "ipython",
    "version": 3
   },
   "file_extension": ".py",
   "mimetype": "text/x-python",
   "name": "python",
   "nbconvert_exporter": "python",
   "pygments_lexer": "ipython3",
   "version": "3.10.13"
  }
 },
 "nbformat": 4,
 "nbformat_minor": 5
}
