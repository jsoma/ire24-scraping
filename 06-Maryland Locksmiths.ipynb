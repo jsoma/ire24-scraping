{
 "cells": [
  {
   "cell_type": "markdown",
   "id": "2a43a97a-85aa-4251-a05d-5ec2cc91fe44",
   "metadata": {},
   "source": [
    "Traditionally Python programmers use [BeautifulSoup](https://beautiful-soup-4.readthedocs.io/en/latest/) to scrape content from the interent. Instead of being *traditional*, we're going to use [Playwright](https://playwright.dev/python/), a **browser automation tool**! This means you actually control the browser! Filling out forms, clicking buttons, downloading documents... it's magic!!!✨✨✨\n",
    "\n",
    "# Maryland locksmiths\n",
    "\n",
    "- Inspecting the page\n",
    "- Filling in a text box\n",
    "- Working through a list of inputs (zip codes, in this case)\n",
    "- Combining dataframes\n",
    "- Back button"
   ]
  },
  {
   "cell_type": "markdown",
   "id": "ee675aba-820b-4af6-87c9-8e678ded7df9",
   "metadata": {},
   "source": [
    "## Installation\n",
    "\n",
    "We need to install a few tools first! Remove the `#` and run the cell to install the Python packages and browsers that we'll need for our scraping adventure."
   ]
  },
  {
   "cell_type": "code",
   "execution_count": 1,
   "id": "f7216c80-6474-48f8-9f27-768ad8cc88cc",
   "metadata": {},
   "outputs": [],
   "source": [
    "# %pip install --quiet lxml html5lib beautifulsoup4 pandas\n",
    "# %pip install --quiet playwright\n",
    "# !playwright install"
   ]
  },
  {
   "cell_type": "markdown",
   "id": "5144ddcd-7ec1-44db-9d4a-a605d3013a6d",
   "metadata": {},
   "source": [
    "## Opening up the browser and visiting our destination\n"
   ]
  },
  {
   "cell_type": "code",
   "execution_count": 18,
   "id": "69e2e5c0-9641-47c0-a71a-122fb40589f2",
   "metadata": {},
   "outputs": [],
   "source": [
    "from playwright.async_api import async_playwright\n",
    "\n",
    "# \"Hey, open up a browser\"\n",
    "playwright = await async_playwright().start()\n",
    "browser = await playwright.chromium.launch(headless=False)\n",
    "\n",
    "# Create a new browser window\n",
    "page = await browser.new_page()"
   ]
  },
  {
   "cell_type": "code",
   "execution_count": 19,
   "id": "2e2396e4-9eb2-44c3-8961-3266188eb1bb",
   "metadata": {},
   "outputs": [
    {
     "data": {
      "text/plain": [
       "<Response url='https://www.dllr.state.md.us/cgi-bin/ElectronicLicensing/OP_Search/OP_search.cgi?calling_app=LOCKSMITH::LOCKSMITH_personal_location' request=<Request url='https://www.dllr.state.md.us/cgi-bin/ElectronicLicensing/OP_Search/OP_search.cgi?calling_app=LOCKSMITH::LOCKSMITH_personal_location' method='GET'>>"
      ]
     },
     "execution_count": 19,
     "metadata": {},
     "output_type": "execute_result"
    }
   ],
   "source": [
    "await page.goto(\"https://www.dllr.state.md.us/cgi-bin/ElectronicLicensing/OP_Search/OP_search.cgi?calling_app=LOCKSMITH::LOCKSMITH_personal_location\")"
   ]
  },
  {
   "cell_type": "markdown",
   "id": "c8c8e231-47ce-451f-a365-8789f512cc9c",
   "metadata": {},
   "source": [
    "## Filling in a text box\n",
    "\n",
    "You always start with `await page.locator(\"input\").fill(\"whatever you want\")`. You'll probably get an error because there are multiple inputs on the page, but Playwright doesn't know which one you want to use! Just read the error and figure out the right one."
   ]
  },
  {
   "cell_type": "code",
   "execution_count": 21,
   "id": "6a4af410-be35-4e4b-b907-faf13935dbba",
   "metadata": {},
   "outputs": [],
   "source": [
    "# 20601 \n",
    "# 20602\n",
    "# 20603\n",
    "# 20606\n",
    "# 20607\n",
    "# 20608\n",
    "# 20609\n",
    "\n",
    "# await page.locator(\"input\").fill(\"20601\")\n",
    "await page.locator(\"[name='zip']\").fill(\"20601\")"
   ]
  },
  {
   "cell_type": "code",
   "execution_count": 7,
   "id": "5cc1c555-1d1b-499f-98f5-9d8d2316b77d",
   "metadata": {},
   "outputs": [],
   "source": [
    "# await page.get_by_text(\"Search\").click()\n",
    "await page.get_by_role(\"button\", name=\"Search\").click()"
   ]
  },
  {
   "cell_type": "markdown",
   "id": "afb8d3d1-2eb1-4942-9403-5e99a89309e3",
   "metadata": {},
   "source": [
    "## Grab the tables from the page\n",
    "\n",
    "[Pandas](https://pandas.pydata.org/) is the Python equivalent to Excel, and it's great at dealing with tabular data! Often the data on a web page that looks like a spreadsheet can be read with `pd.read_html`.\n",
    "\n",
    "You use `await page.content()` to save the contents of the page, then feed it to `read_html` to find the tables. `len(tables)` checks the number of tables you have, then you manually poke around to see which one is the one you're interested in. `tables[0]` is the first one, `tables[1]` is the second one, and so on..."
   ]
  },
  {
   "cell_type": "code",
   "execution_count": 9,
   "id": "66be6a9b-c861-4e5a-b95e-3de2548c225b",
   "metadata": {},
   "outputs": [
    {
     "data": {
      "text/plain": [
       "1"
      ]
     },
     "execution_count": 9,
     "metadata": {},
     "output_type": "execute_result"
    }
   ],
   "source": [
    "import pandas as pd\n",
    "from io import StringIO\n",
    "\n",
    "html = await page.content()\n",
    "tables = pd.read_html(StringIO(html))\n",
    "len(tables)"
   ]
  },
  {
   "cell_type": "code",
   "execution_count": 10,
   "id": "d35c6e02-fa86-4075-b80b-f15e81ed4de3",
   "metadata": {},
   "outputs": [
    {
     "data": {
      "text/html": [
       "<div>\n",
       "<style scoped>\n",
       "    .dataframe tbody tr th:only-of-type {\n",
       "        vertical-align: middle;\n",
       "    }\n",
       "\n",
       "    .dataframe tbody tr th {\n",
       "        vertical-align: top;\n",
       "    }\n",
       "\n",
       "    .dataframe thead th {\n",
       "        text-align: right;\n",
       "    }\n",
       "</style>\n",
       "<table border=\"1\" class=\"dataframe\">\n",
       "  <thead>\n",
       "    <tr style=\"text-align: right;\">\n",
       "      <th></th>\n",
       "      <th>0</th>\n",
       "      <th>1</th>\n",
       "      <th>2</th>\n",
       "      <th>3</th>\n",
       "      <th>4</th>\n",
       "      <th>5</th>\n",
       "      <th>6</th>\n",
       "      <th>7</th>\n",
       "      <th>8</th>\n",
       "    </tr>\n",
       "  </thead>\n",
       "  <tbody>\n",
       "    <tr>\n",
       "      <th>0</th>\n",
       "      <td>Personal Name</td>\n",
       "      <td>Business Legal/Trading as Name and Street Address</td>\n",
       "      <td>City</td>\n",
       "      <td>State</td>\n",
       "      <td>Zip</td>\n",
       "      <td>Expiration</td>\n",
       "      <td>Category</td>\n",
       "      <td>Reg. #</td>\n",
       "      <td>Suffix</td>\n",
       "    </tr>\n",
       "    <tr>\n",
       "      <th>1</th>\n",
       "      <td>BARRY BRAAN</td>\n",
       "      <td>ABECO SAFE AND LOCK CO. 10520 BEECHWOOD DRIVE ...</td>\n",
       "      <td>WALDORF</td>\n",
       "      <td>MD</td>\n",
       "      <td>20601</td>\n",
       "      <td>2025-03-07</td>\n",
       "      <td>LOCKSMITH</td>\n",
       "      <td>393</td>\n",
       "      <td>NaN</td>\n",
       "    </tr>\n",
       "  </tbody>\n",
       "</table>\n",
       "</div>"
      ],
      "text/plain": [
       "               0                                                  1        2  \\\n",
       "0  Personal Name  Business Legal/Trading as Name and Street Address     City   \n",
       "1    BARRY BRAAN  ABECO SAFE AND LOCK CO. 10520 BEECHWOOD DRIVE ...  WALDORF   \n",
       "\n",
       "       3      4           5          6       7       8  \n",
       "0  State    Zip  Expiration   Category  Reg. #  Suffix  \n",
       "1     MD  20601  2025-03-07  LOCKSMITH     393     NaN  "
      ]
     },
     "execution_count": 10,
     "metadata": {},
     "output_type": "execute_result"
    }
   ],
   "source": [
    "tables[0]"
   ]
  },
  {
   "cell_type": "code",
   "execution_count": 12,
   "id": "4ebbc24e-5ee3-40c0-8e2e-68e72d3d58d6",
   "metadata": {},
   "outputs": [
    {
     "data": {
      "text/plain": [
       "<Response url='https://www.dllr.state.md.us/cgi-bin/ElectronicLicensing/OP_Search/OP_search.cgi?calling_app=LOCKSMITH::LOCKSMITH_personal_location' request=<Request url='https://www.dllr.state.md.us/cgi-bin/ElectronicLicensing/OP_Search/OP_search.cgi?calling_app=LOCKSMITH::LOCKSMITH_personal_location' method='GET'>>"
      ]
     },
     "execution_count": 12,
     "metadata": {},
     "output_type": "execute_result"
    }
   ],
   "source": [
    "await page.go_back()"
   ]
  },
  {
   "cell_type": "markdown",
   "id": "adeaefe1-cd74-4d86-a8a6-ef80c31f7665",
   "metadata": {},
   "source": [
    "## Fill out the ZIP code field again and again and again\n",
    "\n",
    "I found a list of zipcodes on the internet! I pasted them below, then used `.split()` to make them into something we could use in Python."
   ]
  },
  {
   "cell_type": "code",
   "execution_count": 3,
   "id": "78680b8c-2b86-448d-9318-7e0e12031fc9",
   "metadata": {},
   "outputs": [
    {
     "name": "stdout",
     "output_type": "stream",
     "text": [
      "['20906', '21234', '20878', '21740', '20874', '21122', '21222', '21117', '20904', '20744', '21061', '21215', '20902', '20772', '21207', '20850', '21206', '20774', '20783', '21228', '20854', '20852', '21043', '21702', '21218', '21044', '21921', '20910', '21224', '21229']\n"
     ]
    }
   ],
   "source": [
    "zipcodes = \"\"\"20906\n",
    "21234\n",
    "20878\n",
    "21740\n",
    "20874\n",
    "21122\n",
    "21222\n",
    "21117\n",
    "20904\n",
    "20744\n",
    "21061\n",
    "21215\n",
    "20902\n",
    "20772\n",
    "21207\n",
    "20850\n",
    "21206\n",
    "20774\n",
    "20783\n",
    "21228\n",
    "20854\n",
    "20852\n",
    "21043\n",
    "21702\n",
    "21218\n",
    "21044\n",
    "21921\n",
    "20910\n",
    "21224\n",
    "21229\"\"\".split(\"\\n\")\n",
    "\n",
    "print(zipcodes)"
   ]
  },
  {
   "cell_type": "markdown",
   "id": "68183a4d-0ad8-4b81-bc4d-b70fc67b37b0",
   "metadata": {},
   "source": [
    "Now we fill out the form for each and every zip code, one by one, pulling out the tables and saving them and adding them to the list."
   ]
  },
  {
   "cell_type": "code",
   "execution_count": 12,
   "id": "6a4102aa-4ff0-4212-9896-1db04cb0617c",
   "metadata": {},
   "outputs": [
    {
     "name": "stdout",
     "output_type": "stream",
     "text": [
      "Searching for 20906\n",
      "Found 3\n",
      "Searching for 21234\n",
      "Found 3\n",
      "Searching for 20878\n",
      "Found 3\n",
      "Searching for 21740\n",
      "Found 4\n",
      "Searching for 20874\n",
      "Found 2\n",
      "Searching for 21122\n",
      "Found 4\n",
      "Searching for 21222\n",
      "Found 6\n",
      "Searching for 21117\n",
      "Found 5\n",
      "Searching for 20904\n",
      "Found 4\n",
      "Searching for 20744\n",
      "Found 3\n",
      "Searching for 21061\n",
      "Found 2\n",
      "Searching for 21215\n",
      "Found 4\n",
      "Searching for 20902\n",
      "Found 18\n",
      "Searching for 20772\n",
      "Found 3\n",
      "Searching for 21207\n",
      "Found 3\n",
      "Searching for 20850\n",
      "Found 3\n",
      "Searching for 21206\n",
      "Nothing found\n",
      "Searching for 20774\n",
      "Found 2\n",
      "Searching for 20783\n",
      "Found 4\n",
      "Searching for 21228\n",
      "Found 4\n",
      "Searching for 20854\n",
      "Found 2\n",
      "Searching for 20852\n",
      "Found 14\n",
      "Searching for 21043\n",
      "Nothing found\n",
      "Searching for 21702\n",
      "Found 2\n",
      "Searching for 21218\n",
      "Nothing found\n",
      "Searching for 21044\n",
      "Found 4\n",
      "Searching for 21921\n",
      "Found 3\n",
      "Searching for 20910\n",
      "Found 3\n",
      "Searching for 21224\n",
      "Nothing found\n",
      "Searching for 21229\n",
      "Nothing found\n"
     ]
    }
   ],
   "source": [
    "import pandas as pd\n",
    "from io import StringIO\n",
    "\n",
    "all_data = pd.DataFrame()\n",
    "\n",
    "# Go to the front page\n",
    "await page.goto(\"https://www.dllr.state.md.us/cgi-bin/ElectronicLicensing/OP_Search/OP_search.cgi?calling_app=LOCKSMITH::LOCKSMITH_personal_location\")\n",
    "\n",
    "# Search for each zipcode\n",
    "for zipcode in zipcodes:\n",
    "    print(\"Searching for\", zipcode)\n",
    "\n",
    "    # Fill out the form and search\n",
    "    await page.locator(\"[name='zip']\").fill(zipcode)\n",
    "    await page.get_by_role(\"button\", name=\"Search\").click()\n",
    "\n",
    "    # try:\n",
    "    # Get all of the tables on the page\n",
    "    html = await page.content()\n",
    "    try:\n",
    "        tables = pd.read_html(StringIO(html))\n",
    "    except:\n",
    "        tables = []\n",
    "\n",
    "    # Get the table (and edit if necessary)\n",
    "    if len(tables) > 0:\n",
    "        df = tables[0]\n",
    "        print(\"Found\", len(df))\n",
    "    \n",
    "        # Add the tables on this page to \n",
    "        all_data = pd.concat([all_data, df], ignore_index = True)\n",
    "    else:\n",
    "        print(\"Nothing found\")\n",
    "\n",
    "    # Go back and start again\n",
    "    await page.go_back()"
   ]
  },
  {
   "cell_type": "code",
   "execution_count": 13,
   "id": "efc499cd-4804-4ec4-9189-b2a14fdb4c9b",
   "metadata": {},
   "outputs": [
    {
     "data": {
      "text/plain": [
       "108"
      ]
     },
     "execution_count": 13,
     "metadata": {},
     "output_type": "execute_result"
    }
   ],
   "source": [
    "len(all_data)"
   ]
  },
  {
   "cell_type": "code",
   "execution_count": 14,
   "id": "75f610e3-9320-4726-9aed-6c6ef8d333c6",
   "metadata": {},
   "outputs": [
    {
     "data": {
      "text/html": [
       "<div>\n",
       "<style scoped>\n",
       "    .dataframe tbody tr th:only-of-type {\n",
       "        vertical-align: middle;\n",
       "    }\n",
       "\n",
       "    .dataframe tbody tr th {\n",
       "        vertical-align: top;\n",
       "    }\n",
       "\n",
       "    .dataframe thead th {\n",
       "        text-align: right;\n",
       "    }\n",
       "</style>\n",
       "<table border=\"1\" class=\"dataframe\">\n",
       "  <thead>\n",
       "    <tr style=\"text-align: right;\">\n",
       "      <th></th>\n",
       "      <th>0</th>\n",
       "      <th>1</th>\n",
       "      <th>2</th>\n",
       "      <th>3</th>\n",
       "      <th>4</th>\n",
       "      <th>5</th>\n",
       "      <th>6</th>\n",
       "      <th>7</th>\n",
       "      <th>8</th>\n",
       "    </tr>\n",
       "  </thead>\n",
       "  <tbody>\n",
       "    <tr>\n",
       "      <th>0</th>\n",
       "      <td>Personal Name</td>\n",
       "      <td>Business Legal/Trading as Name and Street Address</td>\n",
       "      <td>City</td>\n",
       "      <td>State</td>\n",
       "      <td>Zip</td>\n",
       "      <td>Expiration</td>\n",
       "      <td>Category</td>\n",
       "      <td>Reg. #</td>\n",
       "      <td>Suffix</td>\n",
       "    </tr>\n",
       "    <tr>\n",
       "      <th>1</th>\n",
       "      <td>JOSE A. MALDONADO</td>\n",
       "      <td>ELKIN LOCKSMITH 3719 FERRARA DRIVE Total Activ...</td>\n",
       "      <td>SILVER SPRING</td>\n",
       "      <td>MD</td>\n",
       "      <td>20906</td>\n",
       "      <td>2026-05-06</td>\n",
       "      <td>LOCKSMITH</td>\n",
       "      <td>635</td>\n",
       "      <td>NaN</td>\n",
       "    </tr>\n",
       "    <tr>\n",
       "      <th>2</th>\n",
       "      <td>TERRY ROSEMOND</td>\n",
       "      <td>SERVICE REPAIRS, LLC 13108 CAMELLIA DRIVE Tota...</td>\n",
       "      <td>SILVER SPRING</td>\n",
       "      <td>MD</td>\n",
       "      <td>20906</td>\n",
       "      <td>2024-11-30</td>\n",
       "      <td>LOCKSMITH</td>\n",
       "      <td>380</td>\n",
       "      <td>NaN</td>\n",
       "    </tr>\n",
       "    <tr>\n",
       "      <th>3</th>\n",
       "      <td>Personal Name</td>\n",
       "      <td>Business Legal/Trading as Name and Street Address</td>\n",
       "      <td>City</td>\n",
       "      <td>State</td>\n",
       "      <td>Zip</td>\n",
       "      <td>Expiration</td>\n",
       "      <td>Category</td>\n",
       "      <td>Reg. #</td>\n",
       "      <td>Suffix</td>\n",
       "    </tr>\n",
       "    <tr>\n",
       "      <th>4</th>\n",
       "      <td>ROBERT EASTER</td>\n",
       "      <td>EASTER'S LOCK &amp; SECURITY SOLUTIONS 1713 E JOPP...</td>\n",
       "      <td>BALTIMORE</td>\n",
       "      <td>MD</td>\n",
       "      <td>21234</td>\n",
       "      <td>2025-01-31</td>\n",
       "      <td>LOCKSMITH</td>\n",
       "      <td>10</td>\n",
       "      <td>NaN</td>\n",
       "    </tr>\n",
       "  </tbody>\n",
       "</table>\n",
       "</div>"
      ],
      "text/plain": [
       "                   0                                                  1  \\\n",
       "0      Personal Name  Business Legal/Trading as Name and Street Address   \n",
       "1  JOSE A. MALDONADO  ELKIN LOCKSMITH 3719 FERRARA DRIVE Total Activ...   \n",
       "2     TERRY ROSEMOND  SERVICE REPAIRS, LLC 13108 CAMELLIA DRIVE Tota...   \n",
       "3      Personal Name  Business Legal/Trading as Name and Street Address   \n",
       "4      ROBERT EASTER  EASTER'S LOCK & SECURITY SOLUTIONS 1713 E JOPP...   \n",
       "\n",
       "               2      3      4           5          6       7       8  \n",
       "0           City  State    Zip  Expiration   Category  Reg. #  Suffix  \n",
       "1  SILVER SPRING     MD  20906  2026-05-06  LOCKSMITH     635     NaN  \n",
       "2  SILVER SPRING     MD  20906  2024-11-30  LOCKSMITH     380     NaN  \n",
       "3           City  State    Zip  Expiration   Category  Reg. #  Suffix  \n",
       "4      BALTIMORE     MD  21234  2025-01-31  LOCKSMITH      10     NaN  "
      ]
     },
     "execution_count": 14,
     "metadata": {},
     "output_type": "execute_result"
    }
   ],
   "source": [
    "all_data.head()"
   ]
  },
  {
   "cell_type": "markdown",
   "id": "9009845c-d3ba-4b27-98eb-bcbd97946f0c",
   "metadata": {},
   "source": [
    "## Saving the results\n",
    "\n",
    "Now we'll save it to a CSV file! Easy peasy."
   ]
  },
  {
   "cell_type": "code",
   "execution_count": 16,
   "id": "66248fd9-0e86-4fbe-954d-53c004c9237f",
   "metadata": {},
   "outputs": [],
   "source": [
    "all_data.to_csv(\"output.csv\", index=False)"
   ]
  },
  {
   "cell_type": "code",
   "execution_count": null,
   "id": "15e3bd3f-5d46-4fcb-8e57-60c950e3579b",
   "metadata": {},
   "outputs": [],
   "source": []
  }
 ],
 "metadata": {
  "kernelspec": {
   "display_name": "Python 3 (ipykernel)",
   "language": "python",
   "name": "python3"
  },
  "language_info": {
   "codemirror_mode": {
    "name": "ipython",
    "version": 3
   },
   "file_extension": ".py",
   "mimetype": "text/x-python",
   "name": "python",
   "nbconvert_exporter": "python",
   "pygments_lexer": "ipython3",
   "version": "3.10.13"
  }
 },
 "nbformat": 4,
 "nbformat_minor": 5
}
