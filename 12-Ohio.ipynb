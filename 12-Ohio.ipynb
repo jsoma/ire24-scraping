{
 "cells": [
  {
   "cell_type": "markdown",
   "id": "0c6dfb20-9c61-4122-9a67-0f8259b31d32",
   "metadata": {},
   "source": [
    "In this example I give up trying to scrape vets from [Ohio's eLicense system](https://elicense.ohio.gov/OH_VerifyLicense). \n",
    "\n",
    "# Ohio\n",
    "\n",
    "I decided against this one!! But I'll leave it here because it's good to know sometimes things are just a real pain and even I give up (although I COULD HAVE DONE IT, I promise)."
   ]
  },
  {
   "cell_type": "code",
   "execution_count": null,
   "id": "e858125e-d392-4c72-a3c6-99aa1261e7d3",
   "metadata": {},
   "outputs": [],
   "source": [
    "# %pip install --quiet lxml html5lib beautifulsoup4 pandas\n",
    "# %pip install --quiet playwright\n",
    "# !playwright install"
   ]
  },
  {
   "cell_type": "code",
   "execution_count": null,
   "id": "ddc57ac4-4059-4121-8ae6-203cbde0c619",
   "metadata": {},
   "outputs": [],
   "source": [
    "from playwright.async_api import async_playwright\n",
    "\n",
    "# \"Hey, open up a browser\"\n",
    "playwright = await async_playwright().start()\n",
    "browser = await playwright.chromium.launch(headless=False)\n",
    "\n",
    "# Create a new browser window\n",
    "page = await browser.new_page()"
   ]
  },
  {
   "cell_type": "code",
   "execution_count": null,
   "id": "5868249b-5f0c-49e4-83c7-908089083ecf",
   "metadata": {},
   "outputs": [],
   "source": [
    "await page.goto(\"https://elicense.ohio.gov/OH_VerifyLicense\")"
   ]
  },
  {
   "cell_type": "code",
   "execution_count": null,
   "id": "abda0b68-9b9a-43be-b09e-43a60d317a54",
   "metadata": {},
   "outputs": [],
   "source": [
    "# await page.locator(\"select\").select_option(\"Veterinary Medical Board\")\n",
    "await page.locator(\"select[name=\\\"j_id0\\\\:j_id114\\\\:board\\\"]\").select_option(\"Veterinary Medical Board\")"
   ]
  },
  {
   "cell_type": "code",
   "execution_count": null,
   "id": "4ce335b7-85f1-48b5-b97c-30d8732c35f2",
   "metadata": {},
   "outputs": [],
   "source": [
    "# await page.locator(\"select\").select_option(\"OH\")\n",
    "await page.locator(\"select[name=\\\"j_id0\\\\:j_id114\\\\:state\\\"]\").select_option(\"OH\")"
   ]
  },
  {
   "cell_type": "code",
   "execution_count": null,
   "id": "c3c260e6-c2fe-44ed-a9b1-35730bdf99ca",
   "metadata": {},
   "outputs": [],
   "source": [
    "# await page.locator(\"select\").click()\n",
    "# Get all options\n",
    "await page.locator(\"[id=\\\"j_id0\\\\:j_id114\\\\:county\\\"]\").locator(\"option\").all_text_contents()"
   ]
  },
  {
   "cell_type": "code",
   "execution_count": null,
   "id": "d440f77d-77bc-4b06-90b9-e0cd470136ce",
   "metadata": {},
   "outputs": [],
   "source": [
    "counties = ['Adams',\n",
    " 'Allen',\n",
    " 'Ashland',\n",
    " 'Ashtabula',\n",
    " 'Athens',\n",
    " 'Auglaize',\n",
    " 'Belmont',\n",
    " 'Brown',\n",
    " 'Butler',\n",
    " 'Carroll',\n",
    " 'Champaign',\n",
    " 'Clark',\n",
    " 'Clermont',\n",
    " 'Clinton',\n",
    " 'Columbiana',\n",
    " 'Coshocton',\n",
    " 'Crawford',\n",
    " 'Cuyahoga',\n",
    " 'Darke',\n",
    " 'Defiance',\n",
    " 'Delaware',\n",
    " 'Erie',\n",
    " 'Fairfield',\n",
    " 'Fayette',\n",
    " 'Franklin',\n",
    " 'Fulton',\n",
    " 'Gallia',\n",
    " 'Geauga',\n",
    " 'Greene',\n",
    " 'Guernsey',\n",
    " 'Hamilton',\n",
    " 'Hancock',\n",
    " 'Hardin',\n",
    " 'Harrison',\n",
    " 'Henry',\n",
    " 'Highland',\n",
    " 'Hocking',\n",
    " 'Holmes',\n",
    " 'Huron',\n",
    " 'Jackson',\n",
    " 'Jefferson',\n",
    " 'Knox',\n",
    " 'Lake',\n",
    " 'Lawrence',\n",
    " 'Licking',\n",
    " 'Logan',\n",
    " 'Lorain',\n",
    " 'Lucas',\n",
    " 'Madison',\n",
    " 'Mahoning',\n",
    " 'Marion',\n",
    " 'Medina',\n",
    " 'Meigs',\n",
    " 'Mercer',\n",
    " 'Miami',\n",
    " 'Monroe',\n",
    " 'Montgomery',\n",
    " 'Morgan',\n",
    " 'Morrow',\n",
    " 'Muskingum',\n",
    " 'Noble',\n",
    " 'Ottawa',\n",
    " 'Paulding',\n",
    " 'Perry',\n",
    " 'Pickaway',\n",
    " 'Pike',\n",
    " 'Portage',\n",
    " 'Preble',\n",
    " 'Putnam',\n",
    " 'Richland',\n",
    " 'Ross',\n",
    " 'Sandusky',\n",
    " 'Scioto',\n",
    " 'Seneca',\n",
    " 'Shelby',\n",
    " 'Stark',\n",
    " 'Summit',\n",
    " 'Trumbull',\n",
    " 'Tuscarawas',\n",
    " 'Union',\n",
    " 'Van Wert',\n",
    " 'Vinton',\n",
    " 'Warren',\n",
    " 'Washington',\n",
    " 'Wayne',\n",
    " 'Williams',\n",
    " 'Wood',\n",
    " 'Wyandot']"
   ]
  },
  {
   "cell_type": "code",
   "execution_count": null,
   "id": "160cc838-3b5b-4303-95d6-b127fb597f2f",
   "metadata": {},
   "outputs": [],
   "source": [
    "await page.locator(\"[id=\\\"j_id0\\\\:j_id114\\\\:county\\\"]\").select_option('Adams')"
   ]
  },
  {
   "cell_type": "code",
   "execution_count": null,
   "id": "33a137c2-a65c-4bd4-8924-5b9130f551b6",
   "metadata": {},
   "outputs": [],
   "source": [
    "# await page.get_by_text(\"Search\").click()\n",
    "await page.get_by_role(\"button\", name=\"search\").click()"
   ]
  },
  {
   "cell_type": "code",
   "execution_count": null,
   "id": "b6d9101a-ddac-4f85-8bf8-e9641923b547",
   "metadata": {},
   "outputs": [],
   "source": [
    "import pandas as pd\n",
    "from io import StringIO\n",
    "\n",
    "html = await page.content()\n",
    "tables = pd.read_html(StringIO(html))\n",
    "len(tables)"
   ]
  },
  {
   "cell_type": "code",
   "execution_count": null,
   "id": "4d401a5b-ff2e-46e2-9f5a-1bc33543d16d",
   "metadata": {},
   "outputs": [],
   "source": [
    "tables[0]"
   ]
  },
  {
   "cell_type": "code",
   "execution_count": null,
   "id": "6afc6cc2-8788-4976-ab41-e214bb04dc2b",
   "metadata": {},
   "outputs": [],
   "source": [
    "await page.locator(\"a.next:not(disabled)\").click(timeout=1000)"
   ]
  },
  {
   "cell_type": "code",
   "execution_count": null,
   "id": "ee54f8b3-6726-484a-a064-cb7be32c7c65",
   "metadata": {},
   "outputs": [],
   "source": []
  }
 ],
 "metadata": {
  "kernelspec": {
   "display_name": "Python 3 (ipykernel)",
   "language": "python",
   "name": "python3"
  },
  "language_info": {
   "codemirror_mode": {
    "name": "ipython",
    "version": 3
   },
   "file_extension": ".py",
   "mimetype": "text/x-python",
   "name": "python",
   "nbconvert_exporter": "python",
   "pygments_lexer": "ipython3",
   "version": "3.10.13"
  }
 },
 "nbformat": 4,
 "nbformat_minor": 5
}
