{
 "cells": [
  {
   "cell_type": "markdown",
   "id": "8931d253-a87f-4a5f-b5b3-3438d6aaa624",
   "metadata": {},
   "source": [
    "In this example we are going to scrape [Iowa's Professional Licensing](https://ia-plb.my.site.com/LicenseSearchPage) website for appraisal management companies. (Why? Who knows, why *not?*)\n",
    "\n",
    "Traditionally Python programmers use [BeautifulSoup](https://beautiful-soup-4.readthedocs.io/en/latest/) to scrape content from the interent. Instead of being *traditional*, we're going to use [Playwright](https://playwright.dev/python/), a **browser automation tool**! This means you actually control the browser! Filling out forms, clicking buttons, downloading documents... it's magic!!!✨✨✨\n",
    "\n",
    "# Iowa Appraisal Management Companies\n",
    "\n",
    "- Dropdowns\n",
    "- Clicking 'Next page' button again and again\n",
    "- Combining dataframes"
   ]
  },
  {
   "cell_type": "markdown",
   "id": "71af9e3e-a65a-42bb-9c69-bf7b85b83263",
   "metadata": {},
   "source": [
    "## Installation\n",
    "\n",
    "We need to install a few tools first! Remove the `#` and run the cell to install the Python packages and browsers that we'll need for our scraping adventure."
   ]
  },
  {
   "cell_type": "code",
   "execution_count": null,
   "id": "f7216c80-6474-48f8-9f27-768ad8cc88cc",
   "metadata": {},
   "outputs": [],
   "source": [
    "# %pip install lxml html5lib beautifulsoup4 pandas\n",
    "# %pip install --quiet playwright\n",
    "# !playwright install"
   ]
  },
  {
   "cell_type": "markdown",
   "id": "82263051-f3ac-4f54-b29f-cad7a871b661",
   "metadata": {},
   "source": [
    "## Opening up the browser and visiting our destination\n"
   ]
  },
  {
   "cell_type": "code",
   "execution_count": null,
   "id": "69e2e5c0-9641-47c0-a71a-122fb40589f2",
   "metadata": {},
   "outputs": [],
   "source": [
    "from playwright.async_api import async_playwright\n",
    "\n",
    "# \"Hey, open up a browser\"\n",
    "playwright = await async_playwright().start()\n",
    "browser = await playwright.chromium.launch(headless=False)\n",
    "\n",
    "# Create a new browser window\n",
    "page = await browser.new_page()"
   ]
  },
  {
   "cell_type": "code",
   "execution_count": null,
   "id": "2e2396e4-9eb2-44c3-8961-3266188eb1bb",
   "metadata": {},
   "outputs": [],
   "source": [
    "await page.goto(\"https://ia-plb.my.site.com/LicenseSearchPage\")"
   ]
  },
  {
   "cell_type": "markdown",
   "id": "143bce03-5632-4698-a86e-2fa2d8100b02",
   "metadata": {},
   "source": [
    "## Selecting an option from a dropdown\n",
    "\n",
    "You always start with `await page.locator(\"select\").select_option(\"whatever option you want\")`. You'll probably get an error because there are multiple dropdowns on the page, but Playwright doesn't know which one you want to use! Just read the error and figure out the right one."
   ]
  },
  {
   "cell_type": "code",
   "execution_count": null,
   "id": "6a4af410-be35-4e4b-b907-faf13935dbba",
   "metadata": {},
   "outputs": [],
   "source": [
    "# await page.locator(\"select\").select_option(\"Appraisal Management Company\")\n",
    "await page.get_by_label(\"Licensing Board:\").select_option(\"Appraisal Management Company\")"
   ]
  },
  {
   "cell_type": "code",
   "execution_count": null,
   "id": "5cc1c555-1d1b-499f-98f5-9d8d2316b77d",
   "metadata": {},
   "outputs": [],
   "source": [
    "# await page.get_by_text(\"Search\").click()\n",
    "await page.locator(\"input[name=\\\"j_id0\\\\:j_id1\\\\:j_id14\\\\:j_id73\\\"]\").click()"
   ]
  },
  {
   "cell_type": "markdown",
   "id": "9a162dd7-465f-4975-bcc0-2769ff6ce6ca",
   "metadata": {},
   "source": [
    "## Grab the tables from the page\n",
    "\n",
    "[Pandas](https://pandas.pydata.org/) is the Python equivalent to Excel, and it's great at dealing with tabular data! Often the data on a web page that looks like a spreadsheet can be read with `pd.read_html`.\n",
    "\n",
    "You use `await page.content()` to save the contents of the page, then feed it to `read_html` to find the tables. `len(tables)` checks the number of tables you have, then you manually poke around to see which one is the one you're interested in. `tables[0]` is the first one, `tables[1]` is the second one, and so on..."
   ]
  },
  {
   "cell_type": "code",
   "execution_count": null,
   "id": "66be6a9b-c861-4e5a-b95e-3de2548c225b",
   "metadata": {},
   "outputs": [],
   "source": [
    "import pandas as pd\n",
    "from io import StringIO\n",
    "\n",
    "html = await page.content()\n",
    "tables = pd.read_html(StringIO(html))\n",
    "len(tables)"
   ]
  },
  {
   "cell_type": "code",
   "execution_count": null,
   "id": "d35c6e02-fa86-4075-b80b-f15e81ed4de3",
   "metadata": {},
   "outputs": [],
   "source": [
    "tables[0]"
   ]
  },
  {
   "cell_type": "markdown",
   "id": "4609a7d1-73bc-4027-82a6-1568d23d54f0",
   "metadata": {},
   "source": [
    "## Clicking \"next page\" one\n",
    "\n",
    "Just like using a dropdown, select box or button, we'll use `page.get_by_text` to try to select the button.\n",
    "\n",
    "We add `timeout=5000` to wait 5 seconds before confirming it isn't there."
   ]
  },
  {
   "cell_type": "code",
   "execution_count": null,
   "id": "4ebbc24e-5ee3-40c0-8e2e-68e72d3d58d6",
   "metadata": {},
   "outputs": [],
   "source": [
    "# page.get_by_text(\"Next Page\").click()\n",
    "await page.locator(\"a:has-text('Next Page')\").click(timeout=5000)"
   ]
  },
  {
   "cell_type": "markdown",
   "id": "577ff105-01b9-4069-abcf-177f2b6208b4",
   "metadata": {},
   "source": [
    "## Clicking \"next page\" until it disappears\n",
    "\n",
    "Eventually the \"next page\" link disappears, and Python starts *screaming*. We use `try/except` down below to say \"don't worry little baby, it's okay, we'll just finish up if the button is gone.\""
   ]
  },
  {
   "cell_type": "code",
   "execution_count": null,
   "id": "6a4102aa-4ff0-4212-9896-1db04cb0617c",
   "metadata": {},
   "outputs": [],
   "source": [
    "# all of our data will end up going here\n",
    "all_data = pd.DataFrame()\n",
    "\n",
    "while True:\n",
    "    # Get all of the tables on the page\n",
    "    html = await page.content()\n",
    "    tables = pd.read_html(StringIO(html))\n",
    "\n",
    "    # Get the table (and edit if necessary)\n",
    "    df = tables[0]\n",
    "\n",
    "    # Add the tables on this page to the big list of stuff\n",
    "    all_data = pd.concat([all_data, df], ignore_index = True)\n",
    "    try:\n",
    "        await page.locator(\"a:has-text('Next Page')\").click(timeout=5000)\n",
    "    except:\n",
    "        break"
   ]
  },
  {
   "cell_type": "code",
   "execution_count": null,
   "id": "efc499cd-4804-4ec4-9189-b2a14fdb4c9b",
   "metadata": {},
   "outputs": [],
   "source": [
    "all_data"
   ]
  },
  {
   "cell_type": "markdown",
   "id": "56e592f9-8b0c-4147-b91d-271179d314ef",
   "metadata": {},
   "source": [
    "## Saving the results\n",
    "\n",
    "Now we'll save it to a CSV file! Easy peasy."
   ]
  },
  {
   "cell_type": "code",
   "execution_count": null,
   "id": "66248fd9-0e86-4fbe-954d-53c004c9237f",
   "metadata": {},
   "outputs": [],
   "source": [
    "all_data.to_csv(\"output.csv\", index=False)"
   ]
  },
  {
   "cell_type": "code",
   "execution_count": null,
   "id": "15e3bd3f-5d46-4fcb-8e57-60c950e3579b",
   "metadata": {},
   "outputs": [],
   "source": []
  }
 ],
 "metadata": {
  "kernelspec": {
   "display_name": "Python 3 (ipykernel)",
   "language": "python",
   "name": "python3"
  },
  "language_info": {
   "codemirror_mode": {
    "name": "ipython",
    "version": 3
   },
   "file_extension": ".py",
   "mimetype": "text/x-python",
   "name": "python",
   "nbconvert_exporter": "python",
   "pygments_lexer": "ipython3",
   "version": "3.10.13"
  }
 },
 "nbformat": 4,
 "nbformat_minor": 5
}
