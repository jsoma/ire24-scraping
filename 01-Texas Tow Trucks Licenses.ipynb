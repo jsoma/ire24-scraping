{
 "cells": [
  {
   "cell_type": "markdown",
   "id": "6bc1e205-ec86-47c0-8f05-39b8e0bf5d46",
   "metadata": {},
   "source": [
    "In this example we are going to scrape the [Texas Department of Licensing and Regulation](https://www.tdlr.texas.gov/cimsfo) for tow truck licenses.\n",
    "\n",
    "Traditionally Python programmers use [BeautifulSoup](https://beautiful-soup-4.readthedocs.io/en/latest/) to scrape content from the interent. Instead of being *traditional*, we're going to use [Playwright](https://playwright.dev/python/), a **browser automation tool**! This means you actually control the browser! Filling out forms, clicking buttons, downloading documents... it's magic!!!✨✨✨\n",
    "\n",
    "# Texas Tow Truck Licenses\n",
    "\n",
    "## What we'll learn/use\n",
    "\n",
    "- Selectors\n",
    "- Dropdowns\n",
    "- Single page of results\n",
    "- Creating and saving a dataframe"
   ]
  },
  {
   "cell_type": "markdown",
   "id": "7e26a68e-9eab-40a5-9cc8-3166a62f85eb",
   "metadata": {},
   "source": [
    "## Installation\n",
    "\n",
    "We need to install a few tools first! Remove the `#` and run the cell to install the Python packages and browsers that we'll need for our scraping adventure."
   ]
  },
  {
   "cell_type": "code",
   "execution_count": null,
   "id": "f7216c80-6474-48f8-9f27-768ad8cc88cc",
   "metadata": {},
   "outputs": [],
   "source": [
    "# %pip install --quiet lxml html5lib beautifulsoup4 pandas\n",
    "# %pip install --quiet playwright\n",
    "# !playwright install"
   ]
  },
  {
   "cell_type": "markdown",
   "id": "3e8f45f1-cdba-490b-8ed8-74b4b0e983a8",
   "metadata": {},
   "source": [
    "## Opening up the browser and visiting our destination"
   ]
  },
  {
   "cell_type": "code",
   "execution_count": null,
   "id": "69e2e5c0-9641-47c0-a71a-122fb40589f2",
   "metadata": {},
   "outputs": [],
   "source": [
    "from playwright.async_api import async_playwright\n",
    "\n",
    "# \"Hey, open up a browser\"\n",
    "playwright = await async_playwright().start()\n",
    "browser = await playwright.chromium.launch(headless=False)\n",
    "\n",
    "# Create a new browser window\n",
    "page = await browser.new_page()"
   ]
  },
  {
   "cell_type": "code",
   "execution_count": null,
   "id": "2e2396e4-9eb2-44c3-8961-3266188eb1bb",
   "metadata": {},
   "outputs": [],
   "source": [
    "await page.goto(\"https://www.tdlr.texas.gov/cimsfo/\")"
   ]
  },
  {
   "cell_type": "markdown",
   "id": "ce0975ac-f0b8-40a8-8aa3-21cf8fb9ee89",
   "metadata": {},
   "source": [
    "## Selecting an option from a dropdown\n",
    "\n",
    "You always start with `await page.locator(\"select\").select_option(\"whatever option you want\")`. You'll probably get an error because there are multiple dropdowns on the page, but Playwright doesn't know which one you want to use! Just read the error and figure out the right one."
   ]
  },
  {
   "cell_type": "code",
   "execution_count": null,
   "id": "6a4af410-be35-4e4b-b907-faf13935dbba",
   "metadata": {},
   "outputs": [],
   "source": [
    "# await page.locator(\"select\").select_option(\"Tow Truck Companies\")\n",
    "await page.get_by_label(\"Search by License Program Type\").select_option(\"Tow Truck Companies\")"
   ]
  },
  {
   "cell_type": "markdown",
   "id": "362c7982-f877-4063-aed4-7be9e1d191e5",
   "metadata": {},
   "source": [
    "## Clicking the search button\n",
    "\n",
    "Same as with dropdowns, for buttons you always start with `await page.get_by_text(\"search or submit or whatever\").click()`. You usually get an error, and then you read the error to find out the *right* thing to click.\n",
    "\n",
    "In this case it looks absolutely nightmarish. Can you imagine figuring that one out manually?"
   ]
  },
  {
   "cell_type": "code",
   "execution_count": null,
   "id": "5cc1c555-1d1b-499f-98f5-9d8d2316b77d",
   "metadata": {},
   "outputs": [],
   "source": [
    "# await page.get_by_text(\"Search\").click()\n",
    "await page.locator('xpath=//*[@id=\"dat-menu\"]/div/div[2]/div/div/section/div/div/table/tbody/tr/td/form/table/tbody/tr[18]/td/input[1]').click()"
   ]
  },
  {
   "cell_type": "markdown",
   "id": "e97b41e8-ec4b-4d0b-a913-4456f3186458",
   "metadata": {},
   "source": [
    "## Grab the tables from the page\n",
    "\n",
    "[Pandas](https://pandas.pydata.org/) is the Python equivalent to Excel, and it's great at dealing with tabular data! Often the data on a web page that looks like a spreadsheet can be read with `pd.read_html`.\n",
    "\n",
    "You use `await page.content()` to save the contents of the page, then feed it to `read_html` to find the tables. `len(tables)` checks the number of tables you have, then you manually poke around to see which one is the one you're interested in. `tables[0]` is the first one, `tables[1]` is the second one, and so on..."
   ]
  },
  {
   "cell_type": "code",
   "execution_count": null,
   "id": "66be6a9b-c861-4e5a-b95e-3de2548c225b",
   "metadata": {},
   "outputs": [],
   "source": [
    "import pandas as pd\n",
    "from io import StringIO\n",
    "\n",
    "html = await page.content()\n",
    "tables = pd.read_html(StringIO(html))\n",
    "len(tables)"
   ]
  },
  {
   "cell_type": "markdown",
   "id": "c15517ba-b4c8-4468-8892-f59df5c93b9b",
   "metadata": {},
   "source": [
    "In this case there's only one table, so we'll look at the first one. We're saving it as `df` because... that's what Python/pandas people do!"
   ]
  },
  {
   "cell_type": "code",
   "execution_count": null,
   "id": "d35c6e02-fa86-4075-b80b-f15e81ed4de3",
   "metadata": {},
   "outputs": [],
   "source": [
    "df = tables[0]\n",
    "df.head()"
   ]
  },
  {
   "cell_type": "markdown",
   "id": "6d912e9e-8a86-458e-a786-421b7455d0fb",
   "metadata": {},
   "source": [
    "## Saving the results\n",
    "\n",
    "Now we'll save it to a CSV file! Easy peasy."
   ]
  },
  {
   "cell_type": "code",
   "execution_count": null,
   "id": "4ebbc24e-5ee3-40c0-8e2e-68e72d3d58d6",
   "metadata": {},
   "outputs": [],
   "source": [
    "df.to_csv(\"output.csv\", index=False)"
   ]
  }
 ],
 "metadata": {
  "kernelspec": {
   "display_name": "Python 3 (ipykernel)",
   "language": "python",
   "name": "python3"
  },
  "language_info": {
   "codemirror_mode": {
    "name": "ipython",
    "version": 3
   },
   "file_extension": ".py",
   "mimetype": "text/x-python",
   "name": "python",
   "nbconvert_exporter": "python",
   "pygments_lexer": "ipython3",
   "version": "3.10.13"
  }
 },
 "nbformat": 4,
 "nbformat_minor": 5
}
