{
 "cells": [
  {
   "cell_type": "markdown",
   "id": "96ea66f2-f018-49d9-b2ed-4049060e8bf3",
   "metadata": {},
   "source": [
    "Traditionally Python programmers use [BeautifulSoup](https://beautiful-soup-4.readthedocs.io/en/latest/) to scrape content from the interent. Instead of being *traditional*, we're going to use [Playwright](https://playwright.dev/python/), a **browser automation tool**! This means you actually control the browser! Filling out forms, clicking buttons, downloading documents... it's magic!!!✨✨✨\n",
    "\n",
    "# Texas Tow Truck Details\n",
    "\n",
    "- Dropdowns\n",
    "- Filling out text fields\n",
    "- Clicking\n",
    "- Looping through licenses\n",
    "- Saving entire HTML page for cleanup later"
   ]
  },
  {
   "cell_type": "markdown",
   "id": "fde6a0ee-b2e5-4762-a8bd-4256a3f250d5",
   "metadata": {},
   "source": [
    "## Installation\n",
    "\n",
    "We need to install a few tools first! Remove the `#` and run the cell to install the Python packages and browsers that we'll need for our scraping adventure."
   ]
  },
  {
   "cell_type": "code",
   "execution_count": null,
   "id": "f7216c80-6474-48f8-9f27-768ad8cc88cc",
   "metadata": {},
   "outputs": [],
   "source": [
    "# %pip install --quiet lxml html5lib beautifulsoup4 pandas\n",
    "# %pip install --quiet playwright\n",
    "# !playwright install"
   ]
  },
  {
   "cell_type": "markdown",
   "id": "ba47b229-2c5d-448e-abb7-c9f7b089a326",
   "metadata": {},
   "source": [
    "## Opening up the browser and visiting our destination\n"
   ]
  },
  {
   "cell_type": "code",
   "execution_count": null,
   "id": "69e2e5c0-9641-47c0-a71a-122fb40589f2",
   "metadata": {},
   "outputs": [],
   "source": [
    "from playwright.async_api import async_playwright\n",
    "\n",
    "# \"Hey, open up a browser\"\n",
    "playwright = await async_playwright().start()\n",
    "browser = await playwright.chromium.launch(headless=False)\n",
    "\n",
    "# Create a new browser window\n",
    "page = await browser.new_page()"
   ]
  },
  {
   "cell_type": "code",
   "execution_count": null,
   "id": "2e2396e4-9eb2-44c3-8961-3266188eb1bb",
   "metadata": {},
   "outputs": [],
   "source": [
    "await page.goto(\"https://www.tdlr.texas.gov/LicenseSearch/\")"
   ]
  },
  {
   "cell_type": "markdown",
   "id": "184971ab-fc4c-4f71-9c62-aae092fb50f5",
   "metadata": {},
   "source": [
    "## Selecting an option from a dropdown\n",
    "\n",
    "You always start with `await page.locator(\"select\").select_option(\"whatever option you want\")`. You'll probably get an error because there are multiple dropdowns on the page, but Playwright doesn't know which one you want to use! Just read the error and figure out the right one."
   ]
  },
  {
   "cell_type": "code",
   "execution_count": null,
   "id": "6a4af410-be35-4e4b-b907-faf13935dbba",
   "metadata": {},
   "outputs": [],
   "source": [
    "# await page.locator(\"select\").select_option(\"Tow Companies\")\n",
    "await page.locator(\"#SelectStatus\").select_option(\"Tow Companies\")"
   ]
  },
  {
   "cell_type": "code",
   "execution_count": null,
   "id": "aa5f6411-1929-4c1d-884f-399c59c01564",
   "metadata": {},
   "outputs": [],
   "source": [
    "await page.locator(\"#mcrbutton\").click()"
   ]
  },
  {
   "cell_type": "code",
   "execution_count": null,
   "id": "5cc1c555-1d1b-499f-98f5-9d8d2316b77d",
   "metadata": {},
   "outputs": [],
   "source": [
    "# await page.locator(\"input\").fill(\"006534502C\")\n",
    "await page.locator(\"#mcrdata\").fill(\"006534502C\")"
   ]
  },
  {
   "cell_type": "code",
   "execution_count": null,
   "id": "7a52ca28-4c14-4ef5-baa3-d3c111b8c821",
   "metadata": {},
   "outputs": [],
   "source": [
    "# await page.get_by_text(\"Search\").click()\n",
    "await page.get_by_role(\"button\", name=\"Search\").click()"
   ]
  },
  {
   "cell_type": "markdown",
   "id": "9cea243f-6b4b-4124-aa72-9d487cd2e1b4",
   "metadata": {},
   "source": [
    "## Try to grab the tables from the page... and fail!\n",
    "\n",
    "Usually we can use `pd.read_html` to grab the tables from the page, but in this case it doesn't really work!"
   ]
  },
  {
   "cell_type": "code",
   "execution_count": null,
   "id": "66be6a9b-c861-4e5a-b95e-3de2548c225b",
   "metadata": {},
   "outputs": [],
   "source": [
    "from io import StringIO\n",
    "import pandas as pd\n",
    "\n",
    "html = await page.content()\n",
    "tables = pd.read_html(StringIO(html))\n",
    "len(tables)"
   ]
  },
  {
   "cell_type": "markdown",
   "id": "7cf2d61b-0a5e-426e-abf9-5d659a5274d0",
   "metadata": {},
   "source": [
    "The page isn't organized well! As an alternative, we'll just save *all of the content from the page* and clean it up later in Excel or pandas."
   ]
  },
  {
   "cell_type": "markdown",
   "id": "9b8b6089-17e4-4b93-8a98-2215effab170",
   "metadata": {},
   "source": [
    "## Checking many licenses and saving the HTML\n",
    "\n",
    "Below we'll go through a series of licenses and save content about each one to our CSV file.\n",
    "\n",
    "In a normal case we'll cut data out of the page into different columns. In this case, though, we're just going to save a column called `page_contents` that's all of the content on the page and cut it out later.\n",
    "\n",
    "I could have taken this list of licenses from the previous search or put together a manual list of license numbers."
   ]
  },
  {
   "cell_type": "code",
   "execution_count": null,
   "id": "d35c6e02-fa86-4075-b80b-f15e81ed4de3",
   "metadata": {},
   "outputs": [],
   "source": [
    "licenses = [\n",
    "    '006534502C',\n",
    "    '006563949C',\n",
    "    '006546993C',\n",
    "    '006579452C',\n",
    "    '006532111C',\n",
    "]"
   ]
  },
  {
   "cell_type": "code",
   "execution_count": null,
   "id": "03c3cd14-024b-4933-a31e-d201bbf95ee7",
   "metadata": {},
   "outputs": [],
   "source": [
    "# This is a list of page content\n",
    "pages = []\n",
    "\n",
    "# Go through each license\n",
    "for license in licenses:\n",
    "    print(\"Searching for\", license)\n",
    "    await page.goto(\"https://www.tdlr.texas.gov/LicenseSearch/\")\n",
    "    await page.locator(\"#SelectStatus\").select_option(\"Tow Companies\")\n",
    "\n",
    "    # Click radio button and fill out field\n",
    "    await page.locator(\"#mcrbutton\").click()\n",
    "    await page.locator(\"#mcrdata\").fill(license)\n",
    "\n",
    "    # Click search\n",
    "    await page.get_by_role(\"button\", name=\"Search\").click()\n",
    "\n",
    "    try:\n",
    "        await page.get_by_text(\"Certificate Information\").wait_for(timeout=5000)\n",
    "    \n",
    "        html = await page.content()\n",
    "        # Add the current page to the list\n",
    "        pages.append(html)\n",
    "    except:\n",
    "        # It didn't work! Let's just add nothing for this license.\n",
    "        pages.append(None)\n",
    "        print(\"No details\")"
   ]
  },
  {
   "cell_type": "code",
   "execution_count": null,
   "id": "03c08023-6a1d-442d-917a-8c6659e14687",
   "metadata": {},
   "outputs": [],
   "source": [
    "df = pd.DataFrame({\n",
    "    'TDLR': licenses,\n",
    "    'page_contents': pages\n",
    "})\n",
    "df.head()"
   ]
  },
  {
   "cell_type": "markdown",
   "id": "1e6dc89b-bf72-446a-a2c2-1822ca26fbf5",
   "metadata": {},
   "source": [
    "## Saving the results\n",
    "\n",
    "Now we'll save it to a CSV file! Easy peasy."
   ]
  },
  {
   "cell_type": "code",
   "execution_count": null,
   "id": "4ebbc24e-5ee3-40c0-8e2e-68e72d3d58d6",
   "metadata": {},
   "outputs": [],
   "source": [
    "df.to_csv(\"output.csv\", index=False)"
   ]
  },
  {
   "cell_type": "code",
   "execution_count": null,
   "id": "e9a4320d-a5ee-42f6-a5d9-96dd485793d4",
   "metadata": {},
   "outputs": [],
   "source": []
  }
 ],
 "metadata": {
  "kernelspec": {
   "display_name": "Python 3 (ipykernel)",
   "language": "python",
   "name": "python3"
  },
  "language_info": {
   "codemirror_mode": {
    "name": "ipython",
    "version": 3
   },
   "file_extension": ".py",
   "mimetype": "text/x-python",
   "name": "python",
   "nbconvert_exporter": "python",
   "pygments_lexer": "ipython3",
   "version": "3.10.13"
  }
 },
 "nbformat": 4,
 "nbformat_minor": 5
}
