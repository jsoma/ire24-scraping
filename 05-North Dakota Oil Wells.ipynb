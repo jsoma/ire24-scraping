{
 "cells": [
  {
   "cell_type": "markdown",
   "id": "df7633ec-cc59-4545-85b2-ffdfecf939c1",
   "metadata": {},
   "source": [
    "In this example we are going to scrape [North Dakota's Oil and Gas wells search](https://www.dmr.nd.gov/oilgas/findwellsvw.asp).\n",
    "\n",
    "Traditionally Python programmers use [BeautifulSoup](https://beautiful-soup-4.readthedocs.io/en/latest/) to scrape content from the interent. Instead of being *traditional*, we're going to use [Playwright](https://playwright.dev/python/), a **browser automation tool**! This means you actually control the browser! Filling out forms, clicking buttons, downloading documents... it's magic!!!✨✨✨\n",
    "\n",
    "# North Dakota Oil Wells\n",
    "\n",
    "- Filling out dropdowns\n",
    "- Using every option in the dropdown\n",
    "- Combining dataframes"
   ]
  },
  {
   "cell_type": "markdown",
   "id": "3f29070b-1232-4b86-b6a3-669e5e2b63a6",
   "metadata": {},
   "source": [
    "## Installation\n",
    "\n",
    "We need to install a few tools first! Remove the `#` and run the cell to install the Python packages and browsers that we'll need for our scraping adventure."
   ]
  },
  {
   "cell_type": "code",
   "execution_count": null,
   "id": "f7216c80-6474-48f8-9f27-768ad8cc88cc",
   "metadata": {},
   "outputs": [],
   "source": [
    "# %pip install --quiet lxml html5lib beautifulsoup4 pandas\n",
    "# %pip install --quiet playwright\n",
    "# !playwright install"
   ]
  },
  {
   "cell_type": "markdown",
   "id": "ce8e3955-ad2b-425d-9250-1088be925a8e",
   "metadata": {},
   "source": [
    "## Opening up the browser and visiting our destination\n"
   ]
  },
  {
   "cell_type": "code",
   "execution_count": null,
   "id": "69e2e5c0-9641-47c0-a71a-122fb40589f2",
   "metadata": {},
   "outputs": [],
   "source": [
    "from playwright.async_api import async_playwright\n",
    "\n",
    "# \"Hey, open up a browser\"\n",
    "playwright = await async_playwright().start()\n",
    "browser = await playwright.chromium.launch(headless=False)\n",
    "\n",
    "# Create a new browser window\n",
    "page = await browser.new_page()"
   ]
  },
  {
   "cell_type": "code",
   "execution_count": null,
   "id": "2e2396e4-9eb2-44c3-8961-3266188eb1bb",
   "metadata": {},
   "outputs": [],
   "source": [
    "await page.goto(\"https://www.dmr.nd.gov/oilgas/findwellsvw.asp\")"
   ]
  },
  {
   "cell_type": "markdown",
   "id": "c97f6177-7bcc-4a2c-9fa3-f52829512674",
   "metadata": {},
   "source": [
    "## Selecting an option from a dropdown\n",
    "\n",
    "You always start with `await page.locator(\"select\").select_option(\"whatever option you want\")`. You'll probably get an error because there are multiple dropdowns on the page, but Playwright doesn't know which one you want to use! Just read the error and figure out the right one."
   ]
  },
  {
   "cell_type": "code",
   "execution_count": null,
   "id": "6a4af410-be35-4e4b-b907-faf13935dbba",
   "metadata": {},
   "outputs": [],
   "source": [
    "# await page.locator(\"select\").select_option(\"129\")\n",
    "await page.get_by_label(\"Township:\").select_option(\"129\")"
   ]
  },
  {
   "cell_type": "code",
   "execution_count": null,
   "id": "5cc1c555-1d1b-499f-98f5-9d8d2316b77d",
   "metadata": {},
   "outputs": [],
   "source": [
    "#await page.get_by_text(\"Submit\").click()\n",
    "await page.get_by_role(\"button\", name=\"Submit\").click()"
   ]
  },
  {
   "cell_type": "markdown",
   "id": "2ca487bf-dd20-405c-b10d-8d08851ef572",
   "metadata": {},
   "source": [
    "## Grab the tables from the page\n",
    "\n",
    "[Pandas](https://pandas.pydata.org/) is the Python equivalent to Excel, and it's great at dealing with tabular data! Often the data on a web page that looks like a spreadsheet can be read with `pd.read_html`.\n",
    "\n",
    "You use `await page.content()` to save the contents of the page, then feed it to `read_html` to find the tables. `len(tables)` checks the number of tables you have, then you manually poke around to see which one is the one you're interested in. `tables[0]` is the first one, `tables[1]` is the second one, and so on..."
   ]
  },
  {
   "cell_type": "code",
   "execution_count": null,
   "id": "66be6a9b-c861-4e5a-b95e-3de2548c225b",
   "metadata": {},
   "outputs": [],
   "source": [
    "import pandas as pd\n",
    "from io import StringIO\n",
    "\n",
    "html = await page.content()\n",
    "tables = pd.read_html(StringIO(html))\n",
    "len(tables)"
   ]
  },
  {
   "cell_type": "code",
   "execution_count": null,
   "id": "d35c6e02-fa86-4075-b80b-f15e81ed4de3",
   "metadata": {},
   "outputs": [],
   "source": [
    "tables[2]"
   ]
  },
  {
   "cell_type": "markdown",
   "id": "f4ae8b81-d004-4a87-a248-8633afee65df",
   "metadata": {},
   "source": [
    "## Try every option in the \"Township\" dropdown\n",
    "\n",
    "We want data for EVERY township! We'll start by finding all of the options for the Township dropdown.\n",
    "\n",
    "If you use this on another page, it's the same content for filling out the dropdown, except you use `.locator(\"option\").all_text_contents()` instead of `.select_option`."
   ]
  },
  {
   "cell_type": "code",
   "execution_count": null,
   "id": "ffd6f67a-3c62-40c8-834f-aeb52d88b8a0",
   "metadata": {},
   "outputs": [],
   "source": [
    "options = await page.get_by_label(\"Township:\").locator(\"option\").all_text_contents()\n",
    "options[:10]"
   ]
  },
  {
   "cell_type": "markdown",
   "id": "e6f9ea4c-516b-484d-9c81-69a80ff0c990",
   "metadata": {},
   "source": [
    "We're going to remove \"Select a Township\" because... that isn't a township!"
   ]
  },
  {
   "cell_type": "code",
   "execution_count": null,
   "id": "5c70bfe0-96ec-4deb-9b6f-82d79c18ea5f",
   "metadata": {},
   "outputs": [],
   "source": [
    "options.remove(\"Select a Township\")"
   ]
  },
  {
   "cell_type": "markdown",
   "id": "71e98742-815c-433f-82e5-65ab3cb06755",
   "metadata": {},
   "source": [
    "Now we'll go through every single one of the township options and combine the results.\n",
    "\n",
    "> Well... the first three! If you want all of the options, just remove the `[:3]` from it."
   ]
  },
  {
   "cell_type": "code",
   "execution_count": null,
   "id": "6a4102aa-4ff0-4212-9896-1db04cb0617c",
   "metadata": {},
   "outputs": [],
   "source": [
    "all_data = pd.DataFrame()\n",
    "\n",
    "# Try it for three pages\n",
    "# for option in options:\n",
    "for option in options[:3]:\n",
    "    # Click and wait for load\n",
    "    print(\"Querying township\", option)\n",
    "    await page.get_by_label(\"Township:\").select_option(option)\n",
    "    await page.get_by_text(\"Submit\").click()\n",
    "    await page.get_by_text(\"CTB No\").wait_for()\n",
    "    \n",
    "    # Get all of the tables on the page\n",
    "    html = await page.content()\n",
    "    tables = pd.read_html(StringIO(html))\n",
    "\n",
    "    df = tables[2]\n",
    "    df['township'] = option\n",
    "\n",
    "    # Add the tables on this page to \n",
    "    all_data = pd.concat([all_data, df], ignore_index = True)"
   ]
  },
  {
   "cell_type": "code",
   "execution_count": null,
   "id": "efc499cd-4804-4ec4-9189-b2a14fdb4c9b",
   "metadata": {},
   "outputs": [],
   "source": [
    "all_data.head()"
   ]
  },
  {
   "cell_type": "markdown",
   "id": "353acad0-376d-4a40-b761-5e5ef5267db6",
   "metadata": {},
   "source": [
    "## Saving the results\n",
    "\n",
    "Now we'll save it to a CSV file! Easy peasy."
   ]
  },
  {
   "cell_type": "code",
   "execution_count": null,
   "id": "66248fd9-0e86-4fbe-954d-53c004c9237f",
   "metadata": {},
   "outputs": [],
   "source": [
    "all_data.to_csv(\"output.csv\", index=False)"
   ]
  }
 ],
 "metadata": {
  "kernelspec": {
   "display_name": "Python 3 (ipykernel)",
   "language": "python",
   "name": "python3"
  },
  "language_info": {
   "codemirror_mode": {
    "name": "ipython",
    "version": 3
   },
   "file_extension": ".py",
   "mimetype": "text/x-python",
   "name": "python",
   "nbconvert_exporter": "python",
   "pygments_lexer": "ipython3",
   "version": "3.10.13"
  }
 },
 "nbformat": 4,
 "nbformat_minor": 5
}
