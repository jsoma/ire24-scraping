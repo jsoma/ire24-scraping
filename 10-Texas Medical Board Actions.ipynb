{
 "cells": [
  {
   "cell_type": "markdown",
   "id": "d1558916-4ca6-45c2-b7b5-9140485fb1ad",
   "metadata": {},
   "source": [
    "In this example we are going to scrape board actions from the [Texas Medical Board](https://profile.tmb.state.tx.us/SearchBA.aspx).\n",
    "\n",
    "Traditionally Python programmers use [BeautifulSoup](https://beautiful-soup-4.readthedocs.io/en/latest/) to scrape content from the interent. Instead of being *traditional*, we're going to use [Playwright](https://playwright.dev/python/), a **browser automation tool**! This means you actually control the browser! Filling out forms, clicking buttons, downloading documents... it's magic!!!✨✨✨\n",
    "\n",
    "# Texas Medical Board Actions\n",
    "\n",
    "- Filling out text inputs\n",
    "- Inspecting the page\n",
    "- Looping through date ranges\n",
    "- Combining dataframes"
   ]
  },
  {
   "cell_type": "markdown",
   "id": "309f1ea5-8537-448a-b20a-bd7be58621c1",
   "metadata": {},
   "source": [
    "## Installation\n",
    "\n",
    "We need to install a few tools first! Remove the `#` and run the cell to install the Python packages and browsers that we'll need for our scraping adventure."
   ]
  },
  {
   "cell_type": "code",
   "execution_count": null,
   "id": "f7216c80-6474-48f8-9f27-768ad8cc88cc",
   "metadata": {},
   "outputs": [],
   "source": [
    "# %pip install --quiet lxml html5lib beautifulsoup4 pandas\n",
    "# %pip install --quiet playwright\n",
    "# !playwright install"
   ]
  },
  {
   "cell_type": "markdown",
   "id": "750d0c73-c13c-4c7a-b936-9be90eaaef2c",
   "metadata": {},
   "source": [
    "## Opening up the browser and visiting our destination\n"
   ]
  },
  {
   "cell_type": "code",
   "execution_count": null,
   "id": "69e2e5c0-9641-47c0-a71a-122fb40589f2",
   "metadata": {},
   "outputs": [],
   "source": [
    "from playwright.async_api import async_playwright\n",
    "\n",
    "# \"Hey, open up a browser\"\n",
    "playwright = await async_playwright().start()\n",
    "browser = await playwright.chromium.launch(headless=False)\n",
    "\n",
    "# Create a new browser window\n",
    "page = await browser.new_page()"
   ]
  },
  {
   "cell_type": "code",
   "execution_count": null,
   "id": "2e2396e4-9eb2-44c3-8961-3266188eb1bb",
   "metadata": {},
   "outputs": [],
   "source": [
    "await page.goto(\"https://profile.tmb.state.tx.us/SearchBA.aspx\")"
   ]
  },
  {
   "cell_type": "markdown",
   "id": "b9830955-3d82-4e8f-a90b-04b375f5aa01",
   "metadata": {},
   "source": [
    "## Filling in a text field\n",
    "\n",
    "You always start with `await page.locator(\"input\").fill(\"whatever you want\")`. You'll probably get an error because there are multiple inputs on the page, but Playwright doesn't know which one you want to use! Just read the error and figure out the right one."
   ]
  },
  {
   "cell_type": "code",
   "execution_count": null,
   "id": "6a4af410-be35-4e4b-b907-faf13935dbba",
   "metadata": {},
   "outputs": [],
   "source": [
    "#await page.locator(\"input\").fill(\"3/11/2021\")\n",
    "await page.locator(\"#BodyContent_tbBADate\").fill(\"3/11/2021\")\n",
    "await page.locator(\"#BodyContent_tbBADateRangeEnd\").fill(\"3/1/2024\")"
   ]
  },
  {
   "cell_type": "markdown",
   "id": "fd27ac15-5313-43d6-8af0-58b7eb5567ca",
   "metadata": {},
   "source": [
    "## Click the search button and wait for the results to show up"
   ]
  },
  {
   "cell_type": "code",
   "execution_count": null,
   "id": "058e6f16-d210-4c8a-8457-f15184d15ed4",
   "metadata": {},
   "outputs": [],
   "source": [
    "await page.get_by_role(\"button\", name=\"Search\").click()"
   ]
  },
  {
   "cell_type": "code",
   "execution_count": null,
   "id": "68b3a593-3162-49a3-8396-080f178b8e72",
   "metadata": {},
   "outputs": [],
   "source": [
    "await page.get_by_text(\"Board Actions\").wait_for()"
   ]
  },
  {
   "cell_type": "markdown",
   "id": "9048a4bc-1eec-4762-a4d7-75f0ea76bd31",
   "metadata": {},
   "source": [
    "## Grab the tables from the page\n",
    "\n",
    "[Pandas](https://pandas.pydata.org/) is the Python equivalent to Excel, and it's great at dealing with tabular data! Often the data on a web page that looks like a spreadsheet can be read with `pd.read_html`.\n",
    "\n",
    "You use `await page.content()` to save the contents of the page, then feed it to `read_html` to find the tables. `len(tables)` checks the number of tables you have, then you manually poke around to see which one is the one you're interested in. `tables[0]` is the first one, `tables[1]` is the second one, and so on..."
   ]
  },
  {
   "cell_type": "code",
   "execution_count": null,
   "id": "ac2e2ac2-a9bc-4204-8ea4-81d4b6690c20",
   "metadata": {},
   "outputs": [],
   "source": [
    "from io import StringIO\n",
    "import pandas as pd\n",
    "\n",
    "html = await page.content()\n",
    "tables = pd.read_html(StringIO(html))\n",
    "len(tables)"
   ]
  },
  {
   "cell_type": "code",
   "execution_count": null,
   "id": "d0dc2eee-42d1-476a-9c3f-973f08960283",
   "metadata": {},
   "outputs": [],
   "source": [
    "tables[1]"
   ]
  },
  {
   "cell_type": "code",
   "execution_count": null,
   "id": "df7f2e6f-c733-498f-af17-44680310a194",
   "metadata": {},
   "outputs": [],
   "source": [
    "#await page.get_by_text(\"Back\").click()\n",
    "await page.get_by_role(\"link\", name=\"Back\").click()"
   ]
  },
  {
   "cell_type": "markdown",
   "id": "df898433-49dc-4a32-ab59-0185ebbed507",
   "metadata": {},
   "source": [
    "## Cycling through dates\n",
    "\n",
    "We'll start from one date, and work forward to another date. This is just to see what it looks like."
   ]
  },
  {
   "cell_type": "code",
   "execution_count": null,
   "id": "ab1dfcbd-c5b3-4fda-933a-b9f61b6bb401",
   "metadata": {},
   "outputs": [],
   "source": [
    "import datetime\n",
    "\n",
    "start_date = datetime.date(2023, 4, 1)\n",
    "end_date = datetime.date(2023, 4, 10)\n",
    "\n",
    "# Loop over each day from the start date to the end date\n",
    "current_date = start_date\n",
    "while current_date <= end_date:\n",
    "    current_date = current_date + datetime.timedelta(days=1)\n",
    "    date_str = current_date.strftime(\"%m/%d/%Y\")\n",
    "    print(\"Searching\", date_str)"
   ]
  },
  {
   "cell_type": "markdown",
   "id": "507d72ac-8869-49da-b377-1a7778cbf123",
   "metadata": {},
   "source": [
    "## Putting it all together\n",
    "\n",
    "Now we'll visit the page, go through each date, saving the results to our `all_data` overall list of data."
   ]
  },
  {
   "cell_type": "code",
   "execution_count": null,
   "id": "460f52a0-06fe-4266-a340-1b3da0bb7c6a",
   "metadata": {},
   "outputs": [],
   "source": [
    "await page.goto(\"https://profile.tmb.state.tx.us/SearchBA.aspx?eb2d4a70-6591-4ad4-ae6d-a2727e84cb39\")"
   ]
  },
  {
   "cell_type": "code",
   "execution_count": null,
   "id": "a78abe3f-ea6f-4269-b490-ca626b1aa432",
   "metadata": {},
   "outputs": [],
   "source": [
    "import datetime\n",
    "import pandas as pd\n",
    "from io import StringIO\n",
    "\n",
    "all_data = pd.DataFrame()\n",
    "\n",
    "start_date = datetime.date(2023, 4, 1)\n",
    "end_date = datetime.date(2023, 5, 1)\n",
    "\n",
    "# Loop over each day from the start date to the end date\n",
    "current_date = start_date\n",
    "while current_date <= end_date:\n",
    "    current_date = current_date + datetime.timedelta(days=1)\n",
    "    date_str = current_date.strftime(\"%m/%d/%Y\")\n",
    "    \n",
    "    print(\"Searching\", date_str)\n",
    "    \n",
    "    await page.locator(\"#BodyContent_tbBADate\").fill(date_str)\n",
    "    await page.locator(\"#BodyContent_tbBADateRangeEnd\").fill(date_str)\n",
    "\n",
    "    await page.get_by_role(\"button\", name=\"Search\").click()\n",
    "\n",
    "    try:\n",
    "        await page.get_by_text(\"Board Actions\").wait_for()\n",
    "        html = await page.content()\n",
    "        tables = pd.read_html(StringIO(html))\n",
    "        df = tables[1]\n",
    "    \n",
    "        all_data = pd.concat([all_data, df], ignore_index = True)\n",
    "    except:\n",
    "        print(\"Failed\")\n",
    "\n",
    "    await page.get_by_role(\"link\", name=\"Back\").click()"
   ]
  },
  {
   "cell_type": "code",
   "execution_count": null,
   "id": "6259395e-ab8c-41b4-86d3-b0d5ab3a4918",
   "metadata": {},
   "outputs": [],
   "source": [
    "all_data"
   ]
  },
  {
   "cell_type": "markdown",
   "id": "9137bd3a-3850-48b8-9431-18a892d6f35c",
   "metadata": {},
   "source": [
    "## Saving the results\n",
    "\n",
    "Now we'll save it to a CSV file! Easy peasy."
   ]
  },
  {
   "cell_type": "code",
   "execution_count": null,
   "id": "a94971f3-04e3-4003-ae2c-ed9db615ebf6",
   "metadata": {},
   "outputs": [],
   "source": [
    "all_data.to_csv(\"licenses.csv\", index=False)"
   ]
  },
  {
   "cell_type": "code",
   "execution_count": null,
   "id": "262aceb3-89c8-4126-91bd-d9c2ceebc4f2",
   "metadata": {},
   "outputs": [],
   "source": []
  }
 ],
 "metadata": {
  "kernelspec": {
   "display_name": "Python 3 (ipykernel)",
   "language": "python",
   "name": "python3"
  },
  "language_info": {
   "codemirror_mode": {
    "name": "ipython",
    "version": 3
   },
   "file_extension": ".py",
   "mimetype": "text/x-python",
   "name": "python",
   "nbconvert_exporter": "python",
   "pygments_lexer": "ipython3",
   "version": "3.10.13"
  }
 },
 "nbformat": 4,
 "nbformat_minor": 5
}
