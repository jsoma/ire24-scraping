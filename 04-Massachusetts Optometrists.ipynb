{
 "cells": [
  {
   "cell_type": "markdown",
   "id": "831adef1-41ee-4bd5-9e20-391c659bce90",
   "metadata": {},
   "source": [
    "In this example we are going to scrape [Massachusett's Office of Health and Human Services (EOHHS) License Verification Site](https://checkahealthlicense.mass.gov/) for optometrists.\n",
    "\n",
    "Traditionally Python programmers use [BeautifulSoup](https://beautiful-soup-4.readthedocs.io/en/latest/) to scrape content from the interent. Instead of being *traditional*, we're going to use [Playwright](https://playwright.dev/python/), a **browser automation tool**! This means you actually control the browser! Filling out forms, clicking buttons, downloading documents... it's magic!!!✨✨✨\n",
    "\n",
    "\n",
    "# Massachusetts Optometrists\n",
    "\n",
    "- Clicking\n",
    "- Downloading files"
   ]
  },
  {
   "cell_type": "markdown",
   "id": "8710cb6c-88f6-4906-9ca0-020c191cb5b6",
   "metadata": {},
   "source": [
    "## Installation\n",
    "\n",
    "We need to install a few tools first! Remove the `#` and run the cell to install the Python packages and browsers that we'll need for our scraping adventure."
   ]
  },
  {
   "cell_type": "code",
   "execution_count": null,
   "id": "fa280400-d97b-4822-9355-489d6894d65c",
   "metadata": {},
   "outputs": [],
   "source": [
    "# %pip install --quiet lxml html5lib beautifulsoup4 pandas\n",
    "# %pip install --quiet playwright\n",
    "# !playwright install"
   ]
  },
  {
   "cell_type": "markdown",
   "id": "03048246-37ea-4602-bc50-cee1001b0ddb",
   "metadata": {},
   "source": [
    "## Opening up the browser and visiting our destination\n"
   ]
  },
  {
   "cell_type": "code",
   "execution_count": null,
   "id": "64194c6b-420d-4efe-b648-21ab3c915f21",
   "metadata": {},
   "outputs": [],
   "source": [
    "from playwright.async_api import async_playwright\n",
    "\n",
    "# \"Hey, open up a browser\"\n",
    "playwright = await async_playwright().start()\n",
    "browser = await playwright.chromium.launch(headless=False)\n",
    "\n",
    "# Create a new browser window\n",
    "page = await browser.new_page()"
   ]
  },
  {
   "cell_type": "code",
   "execution_count": null,
   "id": "bec1fdaf-c15c-47b0-8d37-33fcf4aad852",
   "metadata": {},
   "outputs": [],
   "source": [
    "await page.goto(\"https://checkahealthlicense.mass.gov/\")"
   ]
  },
  {
   "cell_type": "markdown",
   "id": "c8557304-48ba-44dd-8cb7-8cef2aa4584c",
   "metadata": {},
   "source": [
    "## Selecting an option from a dropdown\n",
    "\n",
    "You always start with `await page.locator(\"select\").select_option(\"whatever option you want\")`. You'll probably get an error because there are multiple dropdowns on the page, but Playwright doesn't know which one you want to use! Just read the error and figure out the right one."
   ]
  },
  {
   "cell_type": "code",
   "execution_count": null,
   "id": "1b65e72f-cac1-4763-a162-d686d7a37d86",
   "metadata": {},
   "outputs": [],
   "source": [
    "# await page.locator(\"select\").select_option(\"Optometry\")\n",
    "await page.get_by_label(\"License Board *\").select_option(\"Board of Registration in Optometry\")"
   ]
  },
  {
   "cell_type": "code",
   "execution_count": null,
   "id": "bf21eb6a-bd31-437f-95e8-4e11618fc40a",
   "metadata": {},
   "outputs": [],
   "source": [
    "# await page.get_by_text(\"Search\").click()\n",
    "await page.get_by_label(\"Click here to search profiles\").click()"
   ]
  },
  {
   "cell_type": "markdown",
   "id": "bf6a9181-a5e1-4ef3-b2bc-f7935d411dcd",
   "metadata": {},
   "source": [
    "## Click the download button\n",
    "\n",
    "This page is great because *there's a download button!* You can't just `.click()` it, though. You need to tell the browser it's about to download something, then make sure it downloads it with the correct filename."
   ]
  },
  {
   "cell_type": "code",
   "execution_count": null,
   "id": "21e13c47-86f2-4e85-9ecc-54820c69ff2d",
   "metadata": {},
   "outputs": [],
   "source": [
    "await page.get_by_label(\"Click here to open up the options menu for search results below.\").click()"
   ]
  },
  {
   "cell_type": "markdown",
   "id": "ba0cb97c-d929-4de2-bd91-818a5fb5c927",
   "metadata": {},
   "source": [
    "You *would* use this code to just click it, but like I said: you can't!"
   ]
  },
  {
   "cell_type": "code",
   "execution_count": null,
   "id": "27da3878-8a8b-4545-8d20-190b140af3a9",
   "metadata": {},
   "outputs": [],
   "source": [
    "# await page.get_by_text(\"Export Report to CSV File\").click()"
   ]
  },
  {
   "cell_type": "code",
   "execution_count": null,
   "id": "aeb02021-d223-4ef1-90c1-b52739362cf7",
   "metadata": {},
   "outputs": [],
   "source": [
    "# Start waiting for the download\n",
    "async with page.expect_download() as download_info:\n",
    "    # Perform the action that initiates download\n",
    "    await page.get_by_text(\"Export Report to CSV File\").click()\n",
    "download = await download_info.value\n",
    "\n",
    "print(\"Saving as\", download.suggested_filename)\n",
    "# Wait for the download process to complete and save the downloaded file somewhere\n",
    "await download.save_as(download.suggested_filename)"
   ]
  },
  {
   "cell_type": "code",
   "execution_count": null,
   "id": "fac08c7b-e508-42b9-bd2a-8029e4f5fe86",
   "metadata": {},
   "outputs": [],
   "source": []
  }
 ],
 "metadata": {
  "kernelspec": {
   "display_name": "Python 3 (ipykernel)",
   "language": "python",
   "name": "python3"
  },
  "language_info": {
   "codemirror_mode": {
    "name": "ipython",
    "version": 3
   },
   "file_extension": ".py",
   "mimetype": "text/x-python",
   "name": "python",
   "nbconvert_exporter": "python",
   "pygments_lexer": "ipython3",
   "version": "3.10.13"
  }
 },
 "nbformat": 4,
 "nbformat_minor": 5
}
