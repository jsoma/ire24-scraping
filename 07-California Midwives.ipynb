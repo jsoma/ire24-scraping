{
 "cells": [
  {
   "cell_type": "markdown",
   "id": "831adef1-41ee-4bd5-9e20-391c659bce90",
   "metadata": {},
   "source": [
    "In this example we're going to scrape midwife licenses from [California's Department of Consumer Affairs](https://search.dca.ca.gov/).\n",
    "\n",
    "Traditionally Python programmers use [BeautifulSoup](https://beautiful-soup-4.readthedocs.io/en/latest/) to scrape content from the interent. Instead of being *traditional*, we're going to use [Playwright](https://playwright.dev/python/), a **browser automation tool**! This means you actually control the browser! Filling out forms, clicking buttons, downloading documents... it's magic!!!✨✨✨\n",
    "\n",
    "# California Midwives\n",
    "\n",
    "- Getting blocked???\n",
    "- Firefox? VPNs?\n",
    "- Selecting from dropdowns\n",
    "- Infinite scroll\n",
    "- BeautifulSoup and `next_sibling`\n",
    "- Dataframe from list of dictionaries"
   ]
  },
  {
   "cell_type": "markdown",
   "id": "2eb6c188-199d-4dac-a6e3-d9250db3285a",
   "metadata": {},
   "source": [
    "## Installation\n",
    "\n",
    "We need to install a few tools first! Remove the `#` and run the cell to install the Python packages and browsers that we'll need for our scraping adventure."
   ]
  },
  {
   "cell_type": "code",
   "execution_count": null,
   "id": "fa280400-d97b-4822-9355-489d6894d65c",
   "metadata": {},
   "outputs": [],
   "source": [
    "# %pip install --quiet lxml html5lib beautifulsoup4 pandas\n",
    "# %pip install --quiet playwright\n",
    "# !playwright install"
   ]
  },
  {
   "cell_type": "markdown",
   "id": "b2f75893-e544-4a74-8fc7-ef808478aba1",
   "metadata": {},
   "source": [
    "## Opening up the browser and visiting our destination\n"
   ]
  },
  {
   "cell_type": "code",
   "execution_count": null,
   "id": "64194c6b-420d-4efe-b648-21ab3c915f21",
   "metadata": {},
   "outputs": [],
   "source": [
    "from playwright.async_api import async_playwright\n",
    "\n",
    "# \"Hey, open up a browser\"\n",
    "playwright = await async_playwright().start()\n",
    "# browser = await playwright.chromium.launch(headless=False)\n",
    "browser = await playwright.firefox.launch(headless=False)\n",
    "\n",
    "# Create a new browser window\n",
    "page = await browser.new_page()"
   ]
  },
  {
   "cell_type": "code",
   "execution_count": null,
   "id": "bec1fdaf-c15c-47b0-8d37-33fcf4aad852",
   "metadata": {},
   "outputs": [],
   "source": [
    "await page.goto(\"https://search.dca.ca.gov/\")"
   ]
  },
  {
   "cell_type": "markdown",
   "id": "a62cb6d9-e0f2-42fc-bfa2-856e6667e2a3",
   "metadata": {},
   "source": [
    "## Selecting an option from a dropdown\n",
    "\n",
    "You always start with `await page.locator(\"select\").select_option(\"whatever option you want\")`. You'll probably get an error because there are multiple dropdowns on the page, but Playwright doesn't know which one you want to use! Just read the error and figure out the right one."
   ]
  },
  {
   "cell_type": "code",
   "execution_count": null,
   "id": "1b65e72f-cac1-4763-a162-d686d7a37d86",
   "metadata": {},
   "outputs": [],
   "source": [
    "# await page.locator(\"select\").select_option(\"Licensed Midwife\")\n",
    "await page.get_by_label(\"License Type\").select_option(\"Licensed Midwife\")"
   ]
  },
  {
   "cell_type": "code",
   "execution_count": null,
   "id": "3c57d584-aacc-44be-8995-5af7c3018c14",
   "metadata": {},
   "outputs": [],
   "source": [
    "# await page.get_by_text(\"Search\").click()\n",
    "await page.get_by_role(\"button\", name=\"SEARCH\").click()"
   ]
  },
  {
   "cell_type": "code",
   "execution_count": null,
   "id": "0ef9e58e-d097-4e27-8b7a-0f20a0ab871b",
   "metadata": {},
   "outputs": [],
   "source": [
    "await page.locator(\"body\").wait_for()\n",
    "last_height = await page.evaluate(\"document.body.scrollHeight\")\n",
    "\n",
    "while True:\n",
    "    print(\"Scrolling down\")\n",
    "    await page.evaluate(\"window.scrollTo({left: 0, top: document.body.scrollHeight, behavior: 'smooth'})\")\n",
    "    await page.wait_for_load_state(\"networkidle\", timeout=5000)\n",
    "    await page.wait_for_timeout(2000)\n",
    "    new_height = await page.evaluate(\"document.body.scrollHeight\")\n",
    "    if new_height == last_height:\n",
    "        break\n",
    "    last_height = new_height"
   ]
  },
  {
   "cell_type": "markdown",
   "id": "a08ceb5a-86c0-4944-9655-39d3b571e800",
   "metadata": {},
   "source": [
    "## Grab the data from the page\n",
    "\n",
    "[Pandas](https://pandas.pydata.org/) is the Python equivalent to Excel, and it's great at dealing with tabular data! Often the data on a web page that looks like a spreadsheet can be read with `pd.read_html`.\n",
    "\n",
    "In this case, there *isn't one*. You need to use BeautifulSoup to scrape the page manually! *But* you first needed to use Playwright to open hte page, execute the search, and scrollllll to fill up the page first."
   ]
  },
  {
   "cell_type": "code",
   "execution_count": null,
   "id": "aa383a5b-d4e1-4611-b1ca-0d55cb21cf30",
   "metadata": {},
   "outputs": [],
   "source": [
    "from bs4 import BeautifulSoup\n",
    "\n",
    "doc = BeautifulSoup(await page.content())"
   ]
  },
  {
   "cell_type": "code",
   "execution_count": null,
   "id": "89cd6005-ccc3-4782-9cb7-7b7ea63f833d",
   "metadata": {},
   "outputs": [],
   "source": [
    "rows = []\n",
    "\n",
    "for item in doc.select(\"article\"):\n",
    "    row = {}\n",
    "    row['content'] = item.text\n",
    "    row['name'] = item.find(\"h3\").text\n",
    "    try:\n",
    "        row['expiration_date'] = item.find(\"strong\", string=\"Expiration Date:\").next_sibling.text\n",
    "    except:\n",
    "        pass\n",
    "    try:\n",
    "        row['number'] = item.find(\"strong\", string=\"License Number:\").find_next_sibling('a').text\n",
    "    except:\n",
    "        pass\n",
    "    try:\n",
    "        row['status'] = item.find(\"strong\", string=\"License Status:\").next_sibling.text\n",
    "    except:\n",
    "        pass\n",
    "    \n",
    "    rows.append(row)"
   ]
  },
  {
   "cell_type": "code",
   "execution_count": null,
   "id": "2d634258-205c-4eed-88d1-24226016c368",
   "metadata": {},
   "outputs": [],
   "source": [
    "import pandas as pd\n",
    "\n",
    "df = pd.DataFrame(rows)\n",
    "df.tail()"
   ]
  },
  {
   "cell_type": "markdown",
   "id": "44c70d6e-aa77-40f0-a277-0a433eda7e44",
   "metadata": {},
   "source": [
    "## Saving the results\n",
    "\n",
    "Now we'll save it to a CSV file! Easy peasy."
   ]
  },
  {
   "cell_type": "code",
   "execution_count": null,
   "id": "64b9672f-e408-4118-a0c1-c5b5f6ddf7e2",
   "metadata": {},
   "outputs": [],
   "source": [
    "df.to_csv(\"output.csv\", index=False)"
   ]
  },
  {
   "cell_type": "code",
   "execution_count": null,
   "id": "8c93ee40-8bb3-4e7d-bb6e-9fb6579269db",
   "metadata": {},
   "outputs": [],
   "source": []
  }
 ],
 "metadata": {
  "kernelspec": {
   "display_name": "Python 3 (ipykernel)",
   "language": "python",
   "name": "python3"
  },
  "language_info": {
   "codemirror_mode": {
    "name": "ipython",
    "version": 3
   },
   "file_extension": ".py",
   "mimetype": "text/x-python",
   "name": "python",
   "nbconvert_exporter": "python",
   "pygments_lexer": "ipython3",
   "version": "3.10.13"
  }
 },
 "nbformat": 4,
 "nbformat_minor": 5
}
